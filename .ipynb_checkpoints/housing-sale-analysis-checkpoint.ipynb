{
 "cells": [
  {
   "cell_type": "markdown",
   "metadata": {},
   "source": [
    "# Housing Sale Analysis\n",
    "__By: Brian Lee__\n",
    "\n",
    "************\n"
   ]
  },
  {
   "cell_type": "markdown",
   "metadata": {},
   "source": [
    "## Business Problem\n",
    "\n",
    "A King County real estate agency has requested us for help in predicting housing prices. They would like to figure out which factors have the greatest effect on the price of the home. They want to cater to average home buyers. You must then translate those findings into actionable insights that the real estate agency can use to better sell the homes in the market."
   ]
  },
  {
   "cell_type": "markdown",
   "metadata": {},
   "source": [
    "## Data Understanding\n",
    "\n",
    "This project uses the King County House Sales dataset, which can be found in kc_house_data.csv in the data folder in this repo. The description of the column names can be found in column_names.md in the same folder."
   ]
  },
  {
   "cell_type": "code",
   "execution_count": 1,
   "metadata": {
    "ExecuteTime": {
     "end_time": "2021-03-26T22:01:24.424545Z",
     "start_time": "2021-03-26T22:01:22.603565Z"
    }
   },
   "outputs": [],
   "source": [
    "# Import necessary packages\n",
    "import pandas as pd\n",
    "import numpy as np\n",
    "import matplotlib.pyplot as plt\n",
    "%matplotlib inline\n",
    "import seaborn as sns\n",
    "\n",
    "from statsmodels.formula.api import ols\n",
    "from statsmodels.stats.outliers_influence import variance_inflation_factor\n",
    "import statsmodels.api as sm\n",
    "import scipy.stats as stats\n",
    "from sklearn.model_selection import train_test_split\n",
    "\n",
    "from sklearn.linear_model import LinearRegression\n",
    "from sklearn.model_selection import cross_val_score\n",
    "from sklearn import metrics"
   ]
  },
  {
   "cell_type": "markdown",
   "metadata": {},
   "source": [
    "Let's first load the housing data set into a DataFrame"
   ]
  },
  {
   "cell_type": "code",
   "execution_count": 2,
   "metadata": {
    "ExecuteTime": {
     "end_time": "2021-03-26T22:01:24.501274Z",
     "start_time": "2021-03-26T22:01:24.425476Z"
    }
   },
   "outputs": [
    {
     "data": {
      "text/html": [
       "<div>\n",
       "<style scoped>\n",
       "    .dataframe tbody tr th:only-of-type {\n",
       "        vertical-align: middle;\n",
       "    }\n",
       "\n",
       "    .dataframe tbody tr th {\n",
       "        vertical-align: top;\n",
       "    }\n",
       "\n",
       "    .dataframe thead th {\n",
       "        text-align: right;\n",
       "    }\n",
       "</style>\n",
       "<table border=\"1\" class=\"dataframe\">\n",
       "  <thead>\n",
       "    <tr style=\"text-align: right;\">\n",
       "      <th></th>\n",
       "      <th>id</th>\n",
       "      <th>date</th>\n",
       "      <th>price</th>\n",
       "      <th>bedrooms</th>\n",
       "      <th>bathrooms</th>\n",
       "      <th>sqft_living</th>\n",
       "      <th>sqft_lot</th>\n",
       "      <th>floors</th>\n",
       "      <th>waterfront</th>\n",
       "      <th>view</th>\n",
       "      <th>...</th>\n",
       "      <th>grade</th>\n",
       "      <th>sqft_above</th>\n",
       "      <th>sqft_basement</th>\n",
       "      <th>yr_built</th>\n",
       "      <th>yr_renovated</th>\n",
       "      <th>zipcode</th>\n",
       "      <th>lat</th>\n",
       "      <th>long</th>\n",
       "      <th>sqft_living15</th>\n",
       "      <th>sqft_lot15</th>\n",
       "    </tr>\n",
       "  </thead>\n",
       "  <tbody>\n",
       "    <tr>\n",
       "      <th>0</th>\n",
       "      <td>7129300520</td>\n",
       "      <td>10/13/2014</td>\n",
       "      <td>221900.0</td>\n",
       "      <td>3</td>\n",
       "      <td>1.00</td>\n",
       "      <td>1180</td>\n",
       "      <td>5650</td>\n",
       "      <td>1.0</td>\n",
       "      <td>NaN</td>\n",
       "      <td>0.0</td>\n",
       "      <td>...</td>\n",
       "      <td>7</td>\n",
       "      <td>1180</td>\n",
       "      <td>0.0</td>\n",
       "      <td>1955</td>\n",
       "      <td>0.0</td>\n",
       "      <td>98178</td>\n",
       "      <td>47.5112</td>\n",
       "      <td>-122.257</td>\n",
       "      <td>1340</td>\n",
       "      <td>5650</td>\n",
       "    </tr>\n",
       "    <tr>\n",
       "      <th>1</th>\n",
       "      <td>6414100192</td>\n",
       "      <td>12/9/2014</td>\n",
       "      <td>538000.0</td>\n",
       "      <td>3</td>\n",
       "      <td>2.25</td>\n",
       "      <td>2570</td>\n",
       "      <td>7242</td>\n",
       "      <td>2.0</td>\n",
       "      <td>0.0</td>\n",
       "      <td>0.0</td>\n",
       "      <td>...</td>\n",
       "      <td>7</td>\n",
       "      <td>2170</td>\n",
       "      <td>400.0</td>\n",
       "      <td>1951</td>\n",
       "      <td>1991.0</td>\n",
       "      <td>98125</td>\n",
       "      <td>47.7210</td>\n",
       "      <td>-122.319</td>\n",
       "      <td>1690</td>\n",
       "      <td>7639</td>\n",
       "    </tr>\n",
       "    <tr>\n",
       "      <th>2</th>\n",
       "      <td>5631500400</td>\n",
       "      <td>2/25/2015</td>\n",
       "      <td>180000.0</td>\n",
       "      <td>2</td>\n",
       "      <td>1.00</td>\n",
       "      <td>770</td>\n",
       "      <td>10000</td>\n",
       "      <td>1.0</td>\n",
       "      <td>0.0</td>\n",
       "      <td>0.0</td>\n",
       "      <td>...</td>\n",
       "      <td>6</td>\n",
       "      <td>770</td>\n",
       "      <td>0.0</td>\n",
       "      <td>1933</td>\n",
       "      <td>NaN</td>\n",
       "      <td>98028</td>\n",
       "      <td>47.7379</td>\n",
       "      <td>-122.233</td>\n",
       "      <td>2720</td>\n",
       "      <td>8062</td>\n",
       "    </tr>\n",
       "    <tr>\n",
       "      <th>3</th>\n",
       "      <td>2487200875</td>\n",
       "      <td>12/9/2014</td>\n",
       "      <td>604000.0</td>\n",
       "      <td>4</td>\n",
       "      <td>3.00</td>\n",
       "      <td>1960</td>\n",
       "      <td>5000</td>\n",
       "      <td>1.0</td>\n",
       "      <td>0.0</td>\n",
       "      <td>0.0</td>\n",
       "      <td>...</td>\n",
       "      <td>7</td>\n",
       "      <td>1050</td>\n",
       "      <td>910.0</td>\n",
       "      <td>1965</td>\n",
       "      <td>0.0</td>\n",
       "      <td>98136</td>\n",
       "      <td>47.5208</td>\n",
       "      <td>-122.393</td>\n",
       "      <td>1360</td>\n",
       "      <td>5000</td>\n",
       "    </tr>\n",
       "    <tr>\n",
       "      <th>4</th>\n",
       "      <td>1954400510</td>\n",
       "      <td>2/18/2015</td>\n",
       "      <td>510000.0</td>\n",
       "      <td>3</td>\n",
       "      <td>2.00</td>\n",
       "      <td>1680</td>\n",
       "      <td>8080</td>\n",
       "      <td>1.0</td>\n",
       "      <td>0.0</td>\n",
       "      <td>0.0</td>\n",
       "      <td>...</td>\n",
       "      <td>8</td>\n",
       "      <td>1680</td>\n",
       "      <td>0.0</td>\n",
       "      <td>1987</td>\n",
       "      <td>0.0</td>\n",
       "      <td>98074</td>\n",
       "      <td>47.6168</td>\n",
       "      <td>-122.045</td>\n",
       "      <td>1800</td>\n",
       "      <td>7503</td>\n",
       "    </tr>\n",
       "  </tbody>\n",
       "</table>\n",
       "<p>5 rows × 21 columns</p>\n",
       "</div>"
      ],
      "text/plain": [
       "           id        date     price  bedrooms  bathrooms  sqft_living  \\\n",
       "0  7129300520  10/13/2014  221900.0         3       1.00         1180   \n",
       "1  6414100192   12/9/2014  538000.0         3       2.25         2570   \n",
       "2  5631500400   2/25/2015  180000.0         2       1.00          770   \n",
       "3  2487200875   12/9/2014  604000.0         4       3.00         1960   \n",
       "4  1954400510   2/18/2015  510000.0         3       2.00         1680   \n",
       "\n",
       "   sqft_lot  floors  waterfront  view  ...  grade  sqft_above  sqft_basement  \\\n",
       "0      5650     1.0         NaN   0.0  ...      7        1180            0.0   \n",
       "1      7242     2.0         0.0   0.0  ...      7        2170          400.0   \n",
       "2     10000     1.0         0.0   0.0  ...      6         770            0.0   \n",
       "3      5000     1.0         0.0   0.0  ...      7        1050          910.0   \n",
       "4      8080     1.0         0.0   0.0  ...      8        1680            0.0   \n",
       "\n",
       "  yr_built  yr_renovated  zipcode      lat     long  sqft_living15  sqft_lot15  \n",
       "0     1955           0.0    98178  47.5112 -122.257           1340        5650  \n",
       "1     1951        1991.0    98125  47.7210 -122.319           1690        7639  \n",
       "2     1933           NaN    98028  47.7379 -122.233           2720        8062  \n",
       "3     1965           0.0    98136  47.5208 -122.393           1360        5000  \n",
       "4     1987           0.0    98074  47.6168 -122.045           1800        7503  \n",
       "\n",
       "[5 rows x 21 columns]"
      ]
     },
     "execution_count": 2,
     "metadata": {},
     "output_type": "execute_result"
    }
   ],
   "source": [
    "data = pd.read_csv('data/kc_house_data.csv')\n",
    "data.head()"
   ]
  },
  {
   "cell_type": "markdown",
   "metadata": {},
   "source": [
    "The dataset columns are defined below:\n",
    "\n",
    "* **id** - unique identified for a house\n",
    "* **date** - house was sold\n",
    "* **price** -  is prediction target\n",
    "* **bedrooms** -  of Bedrooms/House\n",
    "* **bathrooms** -  of bathrooms/bedrooms\n",
    "* **sqft_living** -  footage of the home\n",
    "* **sqft_lot** -  footage of the lot\n",
    "* **floors** -  floors (levels) in house\n",
    "* **waterfront** - House which has a view to a waterfront\n",
    "* **view** - Has been viewed\n",
    "* **condition** - How good the condition is ( Overall )\n",
    "* **grade** - overall grade given to the housing unit, based on King County grading system\n",
    "* **sqft_above** - square footage of house apart from basement\n",
    "* **sqft_basement** - square footage of the basement\n",
    "* **yr_built** - Built Year\n",
    "* **yr_renovated** - Year when house was renovated\n",
    "* **zipcode** - zip\n",
    "* **lat** - Latitude coordinate\n",
    "* **long** - Longitude coordinate\n",
    "* **sqft_living15** - The square footage of interior housing living space for the nearest 15 neighbors\n",
    "* **sqft_lot15** - The square footage of the land lots of the nearest 15 neighbors\n"
   ]
  },
  {
   "cell_type": "markdown",
   "metadata": {},
   "source": [
    "## Data Preparation\n",
    "\n",
    "We need to first clean up the dataset so that we can properly analyze the housing price factors.\n",
    "\n",
    "****\n",
    "\n",
    "Lets take a quick look at the data we are given:"
   ]
  },
  {
   "cell_type": "code",
   "execution_count": 3,
   "metadata": {
    "ExecuteTime": {
     "end_time": "2021-03-26T22:01:24.593074Z",
     "start_time": "2021-03-26T22:01:24.505288Z"
    }
   },
   "outputs": [
    {
     "name": "stdout",
     "output_type": "stream",
     "text": [
      "<class 'pandas.core.frame.DataFrame'>\n",
      "RangeIndex: 21597 entries, 0 to 21596\n",
      "Data columns (total 21 columns):\n",
      " #   Column         Non-Null Count  Dtype  \n",
      "---  ------         --------------  -----  \n",
      " 0   id             21597 non-null  int64  \n",
      " 1   date           21597 non-null  object \n",
      " 2   price          21597 non-null  float64\n",
      " 3   bedrooms       21597 non-null  int64  \n",
      " 4   bathrooms      21597 non-null  float64\n",
      " 5   sqft_living    21597 non-null  int64  \n",
      " 6   sqft_lot       21597 non-null  int64  \n",
      " 7   floors         21597 non-null  float64\n",
      " 8   waterfront     19221 non-null  float64\n",
      " 9   view           21534 non-null  float64\n",
      " 10  condition      21597 non-null  int64  \n",
      " 11  grade          21597 non-null  int64  \n",
      " 12  sqft_above     21597 non-null  int64  \n",
      " 13  sqft_basement  21597 non-null  object \n",
      " 14  yr_built       21597 non-null  int64  \n",
      " 15  yr_renovated   17755 non-null  float64\n",
      " 16  zipcode        21597 non-null  int64  \n",
      " 17  lat            21597 non-null  float64\n",
      " 18  long           21597 non-null  float64\n",
      " 19  sqft_living15  21597 non-null  int64  \n",
      " 20  sqft_lot15     21597 non-null  int64  \n",
      "dtypes: float64(8), int64(11), object(2)\n",
      "memory usage: 3.5+ MB\n"
     ]
    },
    {
     "data": {
      "text/plain": [
       "None"
      ]
     },
     "metadata": {},
     "output_type": "display_data"
    },
    {
     "data": {
      "text/html": [
       "<div>\n",
       "<style scoped>\n",
       "    .dataframe tbody tr th:only-of-type {\n",
       "        vertical-align: middle;\n",
       "    }\n",
       "\n",
       "    .dataframe tbody tr th {\n",
       "        vertical-align: top;\n",
       "    }\n",
       "\n",
       "    .dataframe thead th {\n",
       "        text-align: right;\n",
       "    }\n",
       "</style>\n",
       "<table border=\"1\" class=\"dataframe\">\n",
       "  <thead>\n",
       "    <tr style=\"text-align: right;\">\n",
       "      <th></th>\n",
       "      <th>id</th>\n",
       "      <th>price</th>\n",
       "      <th>bedrooms</th>\n",
       "      <th>bathrooms</th>\n",
       "      <th>sqft_living</th>\n",
       "      <th>sqft_lot</th>\n",
       "      <th>floors</th>\n",
       "      <th>waterfront</th>\n",
       "      <th>view</th>\n",
       "      <th>condition</th>\n",
       "      <th>grade</th>\n",
       "      <th>sqft_above</th>\n",
       "      <th>yr_built</th>\n",
       "      <th>yr_renovated</th>\n",
       "      <th>zipcode</th>\n",
       "      <th>lat</th>\n",
       "      <th>long</th>\n",
       "      <th>sqft_living15</th>\n",
       "      <th>sqft_lot15</th>\n",
       "    </tr>\n",
       "  </thead>\n",
       "  <tbody>\n",
       "    <tr>\n",
       "      <th>count</th>\n",
       "      <td>2.159700e+04</td>\n",
       "      <td>2.159700e+04</td>\n",
       "      <td>21597.000000</td>\n",
       "      <td>21597.000000</td>\n",
       "      <td>21597.000000</td>\n",
       "      <td>2.159700e+04</td>\n",
       "      <td>21597.000000</td>\n",
       "      <td>19221.000000</td>\n",
       "      <td>21534.000000</td>\n",
       "      <td>21597.000000</td>\n",
       "      <td>21597.000000</td>\n",
       "      <td>21597.000000</td>\n",
       "      <td>21597.000000</td>\n",
       "      <td>17755.000000</td>\n",
       "      <td>21597.000000</td>\n",
       "      <td>21597.000000</td>\n",
       "      <td>21597.000000</td>\n",
       "      <td>21597.000000</td>\n",
       "      <td>21597.000000</td>\n",
       "    </tr>\n",
       "    <tr>\n",
       "      <th>mean</th>\n",
       "      <td>4.580474e+09</td>\n",
       "      <td>5.402966e+05</td>\n",
       "      <td>3.373200</td>\n",
       "      <td>2.115826</td>\n",
       "      <td>2080.321850</td>\n",
       "      <td>1.509941e+04</td>\n",
       "      <td>1.494096</td>\n",
       "      <td>0.007596</td>\n",
       "      <td>0.233863</td>\n",
       "      <td>3.409825</td>\n",
       "      <td>7.657915</td>\n",
       "      <td>1788.596842</td>\n",
       "      <td>1970.999676</td>\n",
       "      <td>83.636778</td>\n",
       "      <td>98077.951845</td>\n",
       "      <td>47.560093</td>\n",
       "      <td>-122.213982</td>\n",
       "      <td>1986.620318</td>\n",
       "      <td>12758.283512</td>\n",
       "    </tr>\n",
       "    <tr>\n",
       "      <th>std</th>\n",
       "      <td>2.876736e+09</td>\n",
       "      <td>3.673681e+05</td>\n",
       "      <td>0.926299</td>\n",
       "      <td>0.768984</td>\n",
       "      <td>918.106125</td>\n",
       "      <td>4.141264e+04</td>\n",
       "      <td>0.539683</td>\n",
       "      <td>0.086825</td>\n",
       "      <td>0.765686</td>\n",
       "      <td>0.650546</td>\n",
       "      <td>1.173200</td>\n",
       "      <td>827.759761</td>\n",
       "      <td>29.375234</td>\n",
       "      <td>399.946414</td>\n",
       "      <td>53.513072</td>\n",
       "      <td>0.138552</td>\n",
       "      <td>0.140724</td>\n",
       "      <td>685.230472</td>\n",
       "      <td>27274.441950</td>\n",
       "    </tr>\n",
       "    <tr>\n",
       "      <th>min</th>\n",
       "      <td>1.000102e+06</td>\n",
       "      <td>7.800000e+04</td>\n",
       "      <td>1.000000</td>\n",
       "      <td>0.500000</td>\n",
       "      <td>370.000000</td>\n",
       "      <td>5.200000e+02</td>\n",
       "      <td>1.000000</td>\n",
       "      <td>0.000000</td>\n",
       "      <td>0.000000</td>\n",
       "      <td>1.000000</td>\n",
       "      <td>3.000000</td>\n",
       "      <td>370.000000</td>\n",
       "      <td>1900.000000</td>\n",
       "      <td>0.000000</td>\n",
       "      <td>98001.000000</td>\n",
       "      <td>47.155900</td>\n",
       "      <td>-122.519000</td>\n",
       "      <td>399.000000</td>\n",
       "      <td>651.000000</td>\n",
       "    </tr>\n",
       "    <tr>\n",
       "      <th>25%</th>\n",
       "      <td>2.123049e+09</td>\n",
       "      <td>3.220000e+05</td>\n",
       "      <td>3.000000</td>\n",
       "      <td>1.750000</td>\n",
       "      <td>1430.000000</td>\n",
       "      <td>5.040000e+03</td>\n",
       "      <td>1.000000</td>\n",
       "      <td>0.000000</td>\n",
       "      <td>0.000000</td>\n",
       "      <td>3.000000</td>\n",
       "      <td>7.000000</td>\n",
       "      <td>1190.000000</td>\n",
       "      <td>1951.000000</td>\n",
       "      <td>0.000000</td>\n",
       "      <td>98033.000000</td>\n",
       "      <td>47.471100</td>\n",
       "      <td>-122.328000</td>\n",
       "      <td>1490.000000</td>\n",
       "      <td>5100.000000</td>\n",
       "    </tr>\n",
       "    <tr>\n",
       "      <th>50%</th>\n",
       "      <td>3.904930e+09</td>\n",
       "      <td>4.500000e+05</td>\n",
       "      <td>3.000000</td>\n",
       "      <td>2.250000</td>\n",
       "      <td>1910.000000</td>\n",
       "      <td>7.618000e+03</td>\n",
       "      <td>1.500000</td>\n",
       "      <td>0.000000</td>\n",
       "      <td>0.000000</td>\n",
       "      <td>3.000000</td>\n",
       "      <td>7.000000</td>\n",
       "      <td>1560.000000</td>\n",
       "      <td>1975.000000</td>\n",
       "      <td>0.000000</td>\n",
       "      <td>98065.000000</td>\n",
       "      <td>47.571800</td>\n",
       "      <td>-122.231000</td>\n",
       "      <td>1840.000000</td>\n",
       "      <td>7620.000000</td>\n",
       "    </tr>\n",
       "    <tr>\n",
       "      <th>75%</th>\n",
       "      <td>7.308900e+09</td>\n",
       "      <td>6.450000e+05</td>\n",
       "      <td>4.000000</td>\n",
       "      <td>2.500000</td>\n",
       "      <td>2550.000000</td>\n",
       "      <td>1.068500e+04</td>\n",
       "      <td>2.000000</td>\n",
       "      <td>0.000000</td>\n",
       "      <td>0.000000</td>\n",
       "      <td>4.000000</td>\n",
       "      <td>8.000000</td>\n",
       "      <td>2210.000000</td>\n",
       "      <td>1997.000000</td>\n",
       "      <td>0.000000</td>\n",
       "      <td>98118.000000</td>\n",
       "      <td>47.678000</td>\n",
       "      <td>-122.125000</td>\n",
       "      <td>2360.000000</td>\n",
       "      <td>10083.000000</td>\n",
       "    </tr>\n",
       "    <tr>\n",
       "      <th>max</th>\n",
       "      <td>9.900000e+09</td>\n",
       "      <td>7.700000e+06</td>\n",
       "      <td>33.000000</td>\n",
       "      <td>8.000000</td>\n",
       "      <td>13540.000000</td>\n",
       "      <td>1.651359e+06</td>\n",
       "      <td>3.500000</td>\n",
       "      <td>1.000000</td>\n",
       "      <td>4.000000</td>\n",
       "      <td>5.000000</td>\n",
       "      <td>13.000000</td>\n",
       "      <td>9410.000000</td>\n",
       "      <td>2015.000000</td>\n",
       "      <td>2015.000000</td>\n",
       "      <td>98199.000000</td>\n",
       "      <td>47.777600</td>\n",
       "      <td>-121.315000</td>\n",
       "      <td>6210.000000</td>\n",
       "      <td>871200.000000</td>\n",
       "    </tr>\n",
       "  </tbody>\n",
       "</table>\n",
       "</div>"
      ],
      "text/plain": [
       "                 id         price      bedrooms     bathrooms   sqft_living  \\\n",
       "count  2.159700e+04  2.159700e+04  21597.000000  21597.000000  21597.000000   \n",
       "mean   4.580474e+09  5.402966e+05      3.373200      2.115826   2080.321850   \n",
       "std    2.876736e+09  3.673681e+05      0.926299      0.768984    918.106125   \n",
       "min    1.000102e+06  7.800000e+04      1.000000      0.500000    370.000000   \n",
       "25%    2.123049e+09  3.220000e+05      3.000000      1.750000   1430.000000   \n",
       "50%    3.904930e+09  4.500000e+05      3.000000      2.250000   1910.000000   \n",
       "75%    7.308900e+09  6.450000e+05      4.000000      2.500000   2550.000000   \n",
       "max    9.900000e+09  7.700000e+06     33.000000      8.000000  13540.000000   \n",
       "\n",
       "           sqft_lot        floors    waterfront          view     condition  \\\n",
       "count  2.159700e+04  21597.000000  19221.000000  21534.000000  21597.000000   \n",
       "mean   1.509941e+04      1.494096      0.007596      0.233863      3.409825   \n",
       "std    4.141264e+04      0.539683      0.086825      0.765686      0.650546   \n",
       "min    5.200000e+02      1.000000      0.000000      0.000000      1.000000   \n",
       "25%    5.040000e+03      1.000000      0.000000      0.000000      3.000000   \n",
       "50%    7.618000e+03      1.500000      0.000000      0.000000      3.000000   \n",
       "75%    1.068500e+04      2.000000      0.000000      0.000000      4.000000   \n",
       "max    1.651359e+06      3.500000      1.000000      4.000000      5.000000   \n",
       "\n",
       "              grade    sqft_above      yr_built  yr_renovated       zipcode  \\\n",
       "count  21597.000000  21597.000000  21597.000000  17755.000000  21597.000000   \n",
       "mean       7.657915   1788.596842   1970.999676     83.636778  98077.951845   \n",
       "std        1.173200    827.759761     29.375234    399.946414     53.513072   \n",
       "min        3.000000    370.000000   1900.000000      0.000000  98001.000000   \n",
       "25%        7.000000   1190.000000   1951.000000      0.000000  98033.000000   \n",
       "50%        7.000000   1560.000000   1975.000000      0.000000  98065.000000   \n",
       "75%        8.000000   2210.000000   1997.000000      0.000000  98118.000000   \n",
       "max       13.000000   9410.000000   2015.000000   2015.000000  98199.000000   \n",
       "\n",
       "                lat          long  sqft_living15     sqft_lot15  \n",
       "count  21597.000000  21597.000000   21597.000000   21597.000000  \n",
       "mean      47.560093   -122.213982    1986.620318   12758.283512  \n",
       "std        0.138552      0.140724     685.230472   27274.441950  \n",
       "min       47.155900   -122.519000     399.000000     651.000000  \n",
       "25%       47.471100   -122.328000    1490.000000    5100.000000  \n",
       "50%       47.571800   -122.231000    1840.000000    7620.000000  \n",
       "75%       47.678000   -122.125000    2360.000000   10083.000000  \n",
       "max       47.777600   -121.315000    6210.000000  871200.000000  "
      ]
     },
     "metadata": {},
     "output_type": "display_data"
    }
   ],
   "source": [
    "display(data.info())\n",
    "display(data.describe())"
   ]
  },
  {
   "cell_type": "markdown",
   "metadata": {},
   "source": [
    "There seems to be too many columns. Let's specify what columns we need for our analysis\n",
    "\n",
    "Removing the following:\n",
    "\n",
    "- date\n",
    "- view\n",
    "- sqft_above\n",
    "- sqft_basement\n",
    "- zipcode\n",
    "- lat\n",
    "- long\n",
    "- sqft_living15\n",
    "- sqft_lot15"
   ]
  },
  {
   "cell_type": "code",
   "execution_count": 4,
   "metadata": {
    "ExecuteTime": {
     "end_time": "2021-03-26T22:01:24.607988Z",
     "start_time": "2021-03-26T22:01:24.597017Z"
    }
   },
   "outputs": [],
   "source": [
    "# Dropping extraneous columns\n",
    "data.drop(columns=['id','date','view','sqft_above','sqft_basement','zipcode','lat','long','sqft_living15','sqft_lot15'], inplace=True)"
   ]
  },
  {
   "cell_type": "markdown",
   "metadata": {},
   "source": [
    "We need to find missing values and replace them with appropriate values:"
   ]
  },
  {
   "cell_type": "code",
   "execution_count": 5,
   "metadata": {
    "ExecuteTime": {
     "end_time": "2021-03-26T22:01:24.623966Z",
     "start_time": "2021-03-26T22:01:24.610003Z"
    }
   },
   "outputs": [
    {
     "data": {
      "text/plain": [
       "price              0\n",
       "bedrooms           0\n",
       "bathrooms          0\n",
       "sqft_living        0\n",
       "sqft_lot           0\n",
       "floors             0\n",
       "waterfront      2376\n",
       "condition          0\n",
       "grade              0\n",
       "yr_built           0\n",
       "yr_renovated    3842\n",
       "dtype: int64"
      ]
     },
     "execution_count": 5,
     "metadata": {},
     "output_type": "execute_result"
    }
   ],
   "source": [
    "# Find missing value columns\n",
    "data.isna().sum()"
   ]
  },
  {
   "cell_type": "code",
   "execution_count": 6,
   "metadata": {
    "ExecuteTime": {
     "end_time": "2021-03-26T22:01:24.668848Z",
     "start_time": "2021-03-26T22:01:24.625942Z"
    }
   },
   "outputs": [
    {
     "data": {
      "text/html": [
       "<div>\n",
       "<style scoped>\n",
       "    .dataframe tbody tr th:only-of-type {\n",
       "        vertical-align: middle;\n",
       "    }\n",
       "\n",
       "    .dataframe tbody tr th {\n",
       "        vertical-align: top;\n",
       "    }\n",
       "\n",
       "    .dataframe thead th {\n",
       "        text-align: right;\n",
       "    }\n",
       "</style>\n",
       "<table border=\"1\" class=\"dataframe\">\n",
       "  <thead>\n",
       "    <tr style=\"text-align: right;\">\n",
       "      <th></th>\n",
       "      <th>price</th>\n",
       "      <th>bedrooms</th>\n",
       "      <th>bathrooms</th>\n",
       "      <th>sqft_living</th>\n",
       "      <th>sqft_lot</th>\n",
       "      <th>floors</th>\n",
       "      <th>waterfront</th>\n",
       "      <th>condition</th>\n",
       "      <th>grade</th>\n",
       "      <th>yr_built</th>\n",
       "      <th>yr_renovated</th>\n",
       "    </tr>\n",
       "  </thead>\n",
       "  <tbody>\n",
       "    <tr>\n",
       "      <th>count</th>\n",
       "      <td>2.159700e+04</td>\n",
       "      <td>21597.000000</td>\n",
       "      <td>21597.000000</td>\n",
       "      <td>21597.000000</td>\n",
       "      <td>2.159700e+04</td>\n",
       "      <td>21597.000000</td>\n",
       "      <td>19221.000000</td>\n",
       "      <td>21597.000000</td>\n",
       "      <td>21597.000000</td>\n",
       "      <td>21597.000000</td>\n",
       "      <td>17755.000000</td>\n",
       "    </tr>\n",
       "    <tr>\n",
       "      <th>mean</th>\n",
       "      <td>5.402966e+05</td>\n",
       "      <td>3.373200</td>\n",
       "      <td>2.115826</td>\n",
       "      <td>2080.321850</td>\n",
       "      <td>1.509941e+04</td>\n",
       "      <td>1.494096</td>\n",
       "      <td>0.007596</td>\n",
       "      <td>3.409825</td>\n",
       "      <td>7.657915</td>\n",
       "      <td>1970.999676</td>\n",
       "      <td>83.636778</td>\n",
       "    </tr>\n",
       "    <tr>\n",
       "      <th>std</th>\n",
       "      <td>3.673681e+05</td>\n",
       "      <td>0.926299</td>\n",
       "      <td>0.768984</td>\n",
       "      <td>918.106125</td>\n",
       "      <td>4.141264e+04</td>\n",
       "      <td>0.539683</td>\n",
       "      <td>0.086825</td>\n",
       "      <td>0.650546</td>\n",
       "      <td>1.173200</td>\n",
       "      <td>29.375234</td>\n",
       "      <td>399.946414</td>\n",
       "    </tr>\n",
       "    <tr>\n",
       "      <th>min</th>\n",
       "      <td>7.800000e+04</td>\n",
       "      <td>1.000000</td>\n",
       "      <td>0.500000</td>\n",
       "      <td>370.000000</td>\n",
       "      <td>5.200000e+02</td>\n",
       "      <td>1.000000</td>\n",
       "      <td>0.000000</td>\n",
       "      <td>1.000000</td>\n",
       "      <td>3.000000</td>\n",
       "      <td>1900.000000</td>\n",
       "      <td>0.000000</td>\n",
       "    </tr>\n",
       "    <tr>\n",
       "      <th>25%</th>\n",
       "      <td>3.220000e+05</td>\n",
       "      <td>3.000000</td>\n",
       "      <td>1.750000</td>\n",
       "      <td>1430.000000</td>\n",
       "      <td>5.040000e+03</td>\n",
       "      <td>1.000000</td>\n",
       "      <td>0.000000</td>\n",
       "      <td>3.000000</td>\n",
       "      <td>7.000000</td>\n",
       "      <td>1951.000000</td>\n",
       "      <td>0.000000</td>\n",
       "    </tr>\n",
       "    <tr>\n",
       "      <th>50%</th>\n",
       "      <td>4.500000e+05</td>\n",
       "      <td>3.000000</td>\n",
       "      <td>2.250000</td>\n",
       "      <td>1910.000000</td>\n",
       "      <td>7.618000e+03</td>\n",
       "      <td>1.500000</td>\n",
       "      <td>0.000000</td>\n",
       "      <td>3.000000</td>\n",
       "      <td>7.000000</td>\n",
       "      <td>1975.000000</td>\n",
       "      <td>0.000000</td>\n",
       "    </tr>\n",
       "    <tr>\n",
       "      <th>75%</th>\n",
       "      <td>6.450000e+05</td>\n",
       "      <td>4.000000</td>\n",
       "      <td>2.500000</td>\n",
       "      <td>2550.000000</td>\n",
       "      <td>1.068500e+04</td>\n",
       "      <td>2.000000</td>\n",
       "      <td>0.000000</td>\n",
       "      <td>4.000000</td>\n",
       "      <td>8.000000</td>\n",
       "      <td>1997.000000</td>\n",
       "      <td>0.000000</td>\n",
       "    </tr>\n",
       "    <tr>\n",
       "      <th>max</th>\n",
       "      <td>7.700000e+06</td>\n",
       "      <td>33.000000</td>\n",
       "      <td>8.000000</td>\n",
       "      <td>13540.000000</td>\n",
       "      <td>1.651359e+06</td>\n",
       "      <td>3.500000</td>\n",
       "      <td>1.000000</td>\n",
       "      <td>5.000000</td>\n",
       "      <td>13.000000</td>\n",
       "      <td>2015.000000</td>\n",
       "      <td>2015.000000</td>\n",
       "    </tr>\n",
       "  </tbody>\n",
       "</table>\n",
       "</div>"
      ],
      "text/plain": [
       "              price      bedrooms     bathrooms   sqft_living      sqft_lot  \\\n",
       "count  2.159700e+04  21597.000000  21597.000000  21597.000000  2.159700e+04   \n",
       "mean   5.402966e+05      3.373200      2.115826   2080.321850  1.509941e+04   \n",
       "std    3.673681e+05      0.926299      0.768984    918.106125  4.141264e+04   \n",
       "min    7.800000e+04      1.000000      0.500000    370.000000  5.200000e+02   \n",
       "25%    3.220000e+05      3.000000      1.750000   1430.000000  5.040000e+03   \n",
       "50%    4.500000e+05      3.000000      2.250000   1910.000000  7.618000e+03   \n",
       "75%    6.450000e+05      4.000000      2.500000   2550.000000  1.068500e+04   \n",
       "max    7.700000e+06     33.000000      8.000000  13540.000000  1.651359e+06   \n",
       "\n",
       "             floors    waterfront     condition         grade      yr_built  \\\n",
       "count  21597.000000  19221.000000  21597.000000  21597.000000  21597.000000   \n",
       "mean       1.494096      0.007596      3.409825      7.657915   1970.999676   \n",
       "std        0.539683      0.086825      0.650546      1.173200     29.375234   \n",
       "min        1.000000      0.000000      1.000000      3.000000   1900.000000   \n",
       "25%        1.000000      0.000000      3.000000      7.000000   1951.000000   \n",
       "50%        1.500000      0.000000      3.000000      7.000000   1975.000000   \n",
       "75%        2.000000      0.000000      4.000000      8.000000   1997.000000   \n",
       "max        3.500000      1.000000      5.000000     13.000000   2015.000000   \n",
       "\n",
       "       yr_renovated  \n",
       "count  17755.000000  \n",
       "mean      83.636778  \n",
       "std      399.946414  \n",
       "min        0.000000  \n",
       "25%        0.000000  \n",
       "50%        0.000000  \n",
       "75%        0.000000  \n",
       "max     2015.000000  "
      ]
     },
     "execution_count": 6,
     "metadata": {},
     "output_type": "execute_result"
    }
   ],
   "source": [
    "# Analyze for replacements for 'waterfront' and 'yr_renovated'\n",
    "data.describe()"
   ]
  },
  {
   "cell_type": "markdown",
   "metadata": {},
   "source": [
    "We can see that waterfront and yr_renovated are missing values. We should feel comfortable with replacing the values with the median values of 0 for both seeing that both the median and 25/75 quartiles all equate to 0."
   ]
  },
  {
   "cell_type": "code",
   "execution_count": 7,
   "metadata": {
    "ExecuteTime": {
     "end_time": "2021-03-26T22:01:24.699192Z",
     "start_time": "2021-03-26T22:01:24.669823Z"
    }
   },
   "outputs": [
    {
     "data": {
      "text/plain": [
       "price           0\n",
       "bedrooms        0\n",
       "bathrooms       0\n",
       "sqft_living     0\n",
       "sqft_lot        0\n",
       "floors          0\n",
       "waterfront      0\n",
       "condition       0\n",
       "grade           0\n",
       "yr_built        0\n",
       "yr_renovated    0\n",
       "dtype: int64"
      ]
     },
     "execution_count": 7,
     "metadata": {},
     "output_type": "execute_result"
    }
   ],
   "source": [
    "for col in data.columns:\n",
    "    try:\n",
    "        median = data[col].median()\n",
    "        data[col] = data[col].fillna(value=median)\n",
    "    except:\n",
    "        continue\n",
    "        \n",
    "# Rechecking missing values and confirm none left.        \n",
    "data.isna().sum()"
   ]
  },
  {
   "cell_type": "markdown",
   "metadata": {},
   "source": [
    "Taking a look at __'yr_renovated'__, we can see that rather than needing to see the specific year of renovation, it may be more effective to see this as a \"renovated\" category. "
   ]
  },
  {
   "cell_type": "code",
   "execution_count": 8,
   "metadata": {
    "ExecuteTime": {
     "end_time": "2021-03-26T22:01:24.715144Z",
     "start_time": "2021-03-26T22:01:24.701163Z"
    }
   },
   "outputs": [],
   "source": [
    "# Converting yr_renovated into renovated \n",
    "data['renovated'] = data['yr_renovated'].apply(lambda x: 1 if x>0 else x)"
   ]
  },
  {
   "cell_type": "code",
   "execution_count": 9,
   "metadata": {
    "ExecuteTime": {
     "end_time": "2021-03-26T22:01:24.730105Z",
     "start_time": "2021-03-26T22:01:24.717120Z"
    }
   },
   "outputs": [],
   "source": [
    "# Dropping original column yr_renovated\n",
    "data.drop(columns=['yr_renovated'], inplace=True)"
   ]
  },
  {
   "cell_type": "code",
   "execution_count": 10,
   "metadata": {
    "ExecuteTime": {
     "end_time": "2021-03-26T22:01:24.745045Z",
     "start_time": "2021-03-26T22:01:24.731084Z"
    }
   },
   "outputs": [
    {
     "data": {
      "text/html": [
       "<div>\n",
       "<style scoped>\n",
       "    .dataframe tbody tr th:only-of-type {\n",
       "        vertical-align: middle;\n",
       "    }\n",
       "\n",
       "    .dataframe tbody tr th {\n",
       "        vertical-align: top;\n",
       "    }\n",
       "\n",
       "    .dataframe thead th {\n",
       "        text-align: right;\n",
       "    }\n",
       "</style>\n",
       "<table border=\"1\" class=\"dataframe\">\n",
       "  <thead>\n",
       "    <tr style=\"text-align: right;\">\n",
       "      <th></th>\n",
       "      <th>price</th>\n",
       "      <th>bedrooms</th>\n",
       "      <th>bathrooms</th>\n",
       "      <th>sqft_living</th>\n",
       "      <th>sqft_lot</th>\n",
       "      <th>floors</th>\n",
       "      <th>waterfront</th>\n",
       "      <th>condition</th>\n",
       "      <th>grade</th>\n",
       "      <th>yr_built</th>\n",
       "      <th>renovated</th>\n",
       "    </tr>\n",
       "  </thead>\n",
       "  <tbody>\n",
       "    <tr>\n",
       "      <th>0</th>\n",
       "      <td>221900.0</td>\n",
       "      <td>3</td>\n",
       "      <td>1.00</td>\n",
       "      <td>1180</td>\n",
       "      <td>5650</td>\n",
       "      <td>1.0</td>\n",
       "      <td>0.0</td>\n",
       "      <td>3</td>\n",
       "      <td>7</td>\n",
       "      <td>1955</td>\n",
       "      <td>0.0</td>\n",
       "    </tr>\n",
       "    <tr>\n",
       "      <th>1</th>\n",
       "      <td>538000.0</td>\n",
       "      <td>3</td>\n",
       "      <td>2.25</td>\n",
       "      <td>2570</td>\n",
       "      <td>7242</td>\n",
       "      <td>2.0</td>\n",
       "      <td>0.0</td>\n",
       "      <td>3</td>\n",
       "      <td>7</td>\n",
       "      <td>1951</td>\n",
       "      <td>1.0</td>\n",
       "    </tr>\n",
       "    <tr>\n",
       "      <th>2</th>\n",
       "      <td>180000.0</td>\n",
       "      <td>2</td>\n",
       "      <td>1.00</td>\n",
       "      <td>770</td>\n",
       "      <td>10000</td>\n",
       "      <td>1.0</td>\n",
       "      <td>0.0</td>\n",
       "      <td>3</td>\n",
       "      <td>6</td>\n",
       "      <td>1933</td>\n",
       "      <td>0.0</td>\n",
       "    </tr>\n",
       "    <tr>\n",
       "      <th>3</th>\n",
       "      <td>604000.0</td>\n",
       "      <td>4</td>\n",
       "      <td>3.00</td>\n",
       "      <td>1960</td>\n",
       "      <td>5000</td>\n",
       "      <td>1.0</td>\n",
       "      <td>0.0</td>\n",
       "      <td>5</td>\n",
       "      <td>7</td>\n",
       "      <td>1965</td>\n",
       "      <td>0.0</td>\n",
       "    </tr>\n",
       "    <tr>\n",
       "      <th>4</th>\n",
       "      <td>510000.0</td>\n",
       "      <td>3</td>\n",
       "      <td>2.00</td>\n",
       "      <td>1680</td>\n",
       "      <td>8080</td>\n",
       "      <td>1.0</td>\n",
       "      <td>0.0</td>\n",
       "      <td>3</td>\n",
       "      <td>8</td>\n",
       "      <td>1987</td>\n",
       "      <td>0.0</td>\n",
       "    </tr>\n",
       "  </tbody>\n",
       "</table>\n",
       "</div>"
      ],
      "text/plain": [
       "      price  bedrooms  bathrooms  sqft_living  sqft_lot  floors  waterfront  \\\n",
       "0  221900.0         3       1.00         1180      5650     1.0         0.0   \n",
       "1  538000.0         3       2.25         2570      7242     2.0         0.0   \n",
       "2  180000.0         2       1.00          770     10000     1.0         0.0   \n",
       "3  604000.0         4       3.00         1960      5000     1.0         0.0   \n",
       "4  510000.0         3       2.00         1680      8080     1.0         0.0   \n",
       "\n",
       "   condition  grade  yr_built  renovated  \n",
       "0          3      7      1955        0.0  \n",
       "1          3      7      1951        1.0  \n",
       "2          3      6      1933        0.0  \n",
       "3          5      7      1965        0.0  \n",
       "4          3      8      1987        0.0  "
      ]
     },
     "execution_count": 10,
     "metadata": {},
     "output_type": "execute_result"
    }
   ],
   "source": [
    "# Taking a look at the cleaned data\n",
    "data.head()"
   ]
  },
  {
   "cell_type": "markdown",
   "metadata": {},
   "source": [
    "## Exploratory Data Analysis\n",
    "\n",
    "Now that we have cleaned the data, let's examine the distributitions of the columns and examine the descriptive statisitics for the dataset"
   ]
  },
  {
   "cell_type": "markdown",
   "metadata": {},
   "source": [
    "Lets do a basic plot to see trends to the sale price of the home to the columns"
   ]
  },
  {
   "cell_type": "code",
   "execution_count": 11,
   "metadata": {
    "ExecuteTime": {
     "end_time": "2021-03-26T22:01:25.437633Z",
     "start_time": "2021-03-26T22:01:24.746044Z"
    }
   },
   "outputs": [
    {
     "data": {
      "image/png": "[encoded data removed]",
      "text/plain": [
       "<Figure size 1152x216 with 5 Axes>"
      ]
     },
     "metadata": {
      "needs_background": "light"
     },
     "output_type": "display_data"
    }
   ],
   "source": [
    "# Creates subplots comparing price and each column\n",
    "fig, axes = plt.subplots(nrows=1, ncols=5, figsize=(16,3))\n",
    "\n",
    "for xcol, ax in zip(['bedrooms','bathrooms','sqft_living','sqft_lot','floors'], axes):\n",
    "    data.plot(kind='scatter', x=xcol, y='price', ax=ax, alpha=0.4, color='b')"
   ]
  },
  {
   "cell_type": "code",
   "execution_count": 12,
   "metadata": {
    "ExecuteTime": {
     "end_time": "2021-03-26T22:01:26.094290Z",
     "start_time": "2021-03-26T22:01:25.438629Z"
    }
   },
   "outputs": [
    {
     "data": {
      "image/png": "[encoded data removed]",
      "text/plain": [
       "<Figure size 1152x216 with 5 Axes>"
      ]
     },
     "metadata": {
      "needs_background": "light"
     },
     "output_type": "display_data"
    }
   ],
   "source": [
    "# Creates subplots comparing price and each column\n",
    "fig, axes = plt.subplots(nrows=1, ncols=5, figsize=(16,3))\n",
    "\n",
    "for xcol, ax in zip(['waterfront','condition','grade','yr_built','renovated'], axes):\n",
    "    data.plot(kind='scatter', x=xcol, y='price', ax=ax, alpha=0.4, color='b')"
   ]
  },
  {
   "cell_type": "markdown",
   "metadata": {},
   "source": [
    "We can see there are some columns that appear to be categorical at first glance.\n",
    "- floors\n",
    "- waterfront\n",
    "- condition\n",
    "- grade\n",
    "- renovated\n",
    "\n",
    "There may be a few outliers in the dataset as well, in particular __'bedrooms'__"
   ]
  },
  {
   "cell_type": "code",
   "execution_count": 13,
   "metadata": {
    "ExecuteTime": {
     "end_time": "2021-03-26T22:01:27.341686Z",
     "start_time": "2021-03-26T22:01:26.096232Z"
    }
   },
   "outputs": [
    {
     "data": {
      "image/png": "[encoded data removed]",
      "text/plain": [
       "<Figure size 720x720 with 12 Axes>"
      ]
     },
     "metadata": {
      "needs_background": "light"
     },
     "output_type": "display_data"
    }
   ],
   "source": [
    "# Creates a histogram for each variable\n",
    "import warnings\n",
    "warnings.filterwarnings('ignore')\n",
    "fig = plt.figure(figsize = (10,10))\n",
    "ax = fig.gca()\n",
    "data.hist(ax = ax);"
   ]
  },
  {
   "cell_type": "code",
   "execution_count": 14,
   "metadata": {
    "ExecuteTime": {
     "end_time": "2021-03-26T22:01:40.548109Z",
     "start_time": "2021-03-26T22:01:27.342683Z"
    }
   },
   "outputs": [
    {
     "data": {
      "image/png": "[encoded data removed]",
      "text/plain": [
       "<Figure size 864x864 with 121 Axes>"
      ]
     },
     "metadata": {
      "needs_background": "light"
     },
     "output_type": "display_data"
    }
   ],
   "source": [
    "# Creates a scatter matrix\n",
    "pd.plotting.scatter_matrix(data, figsize=[12,12]);\n",
    "plt.show()"
   ]
  },
  {
   "cell_type": "markdown",
   "metadata": {},
   "source": [
    "Let's check for __Linearity__"
   ]
  },
  {
   "cell_type": "code",
   "execution_count": 15,
   "metadata": {
    "ExecuteTime": {
     "end_time": "2021-03-26T22:02:05.019060Z",
     "start_time": "2021-03-26T22:01:40.549106Z"
    }
   },
   "outputs": [
    {
     "data": {
      "image/png": "[encoded data removed]",
      "text/plain": [
       "<Figure size 432x432 with 3 Axes>"
      ]
     },
     "metadata": {
      "needs_background": "light"
     },
     "output_type": "display_data"
    },
    {
     "data": {
      "image/png": "[encoded data removed]",
      "text/plain": [
       "<Figure size 432x432 with 3 Axes>"
      ]
     },
     "metadata": {
      "needs_background": "light"
     },
     "output_type": "display_data"
    },
    {
     "data": {
      "image/png": "[encoded data removed]",
      "text/plain": [
       "<Figure size 432x432 with 3 Axes>"
      ]
     },
     "metadata": {
      "needs_background": "light"
     },
     "output_type": "display_data"
    },
    {
     "data": {
      "image/png": "[encoded data removed]",
      "text/plain": [
       "<Figure size 432x432 with 3 Axes>"
      ]
     },
     "metadata": {
      "needs_background": "light"
     },
     "output_type": "display_data"
    },
    {
     "data": {
      "image/png": "[encoded data removed]",
      "text/plain": [
       "<Figure size 432x432 with 3 Axes>"
      ]
     },
     "metadata": {
      "needs_background": "light"
     },
     "output_type": "display_data"
    },
    {
     "data": {
      "image/png": "[encoded data removed]",
      "text/plain": [
       "<Figure size 432x432 with 3 Axes>"
      ]
     },
     "metadata": {
      "needs_background": "light"
     },
     "output_type": "display_data"
    },
    {
     "data": {
      "image/png": "[encoded data removed]",
      "text/plain": [
       "<Figure size 432x432 with 3 Axes>"
      ]
     },
     "metadata": {
      "needs_background": "light"
     },
     "output_type": "display_data"
    },
    {
     "data": {
      "image/png": "[encoded data removed]",
      "text/plain": [
       "<Figure size 432x432 with 3 Axes>"
      ]
     },
     "metadata": {
      "needs_background": "light"
     },
     "output_type": "display_data"
    },
    {
     "data": {
      "image/png": "[encoded data removed]",
      "text/plain": [
       "<Figure size 432x432 with 3 Axes>"
      ]
     },
     "metadata": {
      "needs_background": "light"
     },
     "output_type": "display_data"
    },
    {
     "data": {
      "image/png": "[encoded data removed]",
      "text/plain": [
       "<Figure size 432x432 with 3 Axes>"
      ]
     },
     "metadata": {
      "needs_background": "light"
     },
     "output_type": "display_data"
    }
   ],
   "source": [
    "for col in data.columns[1:]:\n",
    "    sns.jointplot(x=col, y='price', data=data, kind='reg');"
   ]
  },
  {
   "cell_type": "markdown",
   "metadata": {},
   "source": [
    "* The non-categorical factors appear to be relatively linear"
   ]
  },
  {
   "cell_type": "markdown",
   "metadata": {},
   "source": [
    "Let's check for __Multicollinearity__."
   ]
  },
  {
   "cell_type": "code",
   "execution_count": 16,
   "metadata": {
    "ExecuteTime": {
     "end_time": "2021-03-26T22:02:05.049984Z",
     "start_time": "2021-03-26T22:02:05.020057Z"
    },
    "scrolled": false
   },
   "outputs": [
    {
     "data": {
      "text/html": [
       "<div>\n",
       "<style scoped>\n",
       "    .dataframe tbody tr th:only-of-type {\n",
       "        vertical-align: middle;\n",
       "    }\n",
       "\n",
       "    .dataframe tbody tr th {\n",
       "        vertical-align: top;\n",
       "    }\n",
       "\n",
       "    .dataframe thead th {\n",
       "        text-align: right;\n",
       "    }\n",
       "</style>\n",
       "<table border=\"1\" class=\"dataframe\">\n",
       "  <thead>\n",
       "    <tr style=\"text-align: right;\">\n",
       "      <th></th>\n",
       "      <th>price</th>\n",
       "      <th>bedrooms</th>\n",
       "      <th>bathrooms</th>\n",
       "      <th>sqft_living</th>\n",
       "      <th>sqft_lot</th>\n",
       "      <th>floors</th>\n",
       "      <th>waterfront</th>\n",
       "      <th>condition</th>\n",
       "      <th>grade</th>\n",
       "      <th>yr_built</th>\n",
       "      <th>renovated</th>\n",
       "    </tr>\n",
       "  </thead>\n",
       "  <tbody>\n",
       "    <tr>\n",
       "      <th>price</th>\n",
       "      <td>True</td>\n",
       "      <td>False</td>\n",
       "      <td>False</td>\n",
       "      <td>False</td>\n",
       "      <td>False</td>\n",
       "      <td>False</td>\n",
       "      <td>False</td>\n",
       "      <td>False</td>\n",
       "      <td>False</td>\n",
       "      <td>False</td>\n",
       "      <td>False</td>\n",
       "    </tr>\n",
       "    <tr>\n",
       "      <th>bedrooms</th>\n",
       "      <td>False</td>\n",
       "      <td>True</td>\n",
       "      <td>False</td>\n",
       "      <td>False</td>\n",
       "      <td>False</td>\n",
       "      <td>False</td>\n",
       "      <td>False</td>\n",
       "      <td>False</td>\n",
       "      <td>False</td>\n",
       "      <td>False</td>\n",
       "      <td>False</td>\n",
       "    </tr>\n",
       "    <tr>\n",
       "      <th>bathrooms</th>\n",
       "      <td>False</td>\n",
       "      <td>False</td>\n",
       "      <td>True</td>\n",
       "      <td>True</td>\n",
       "      <td>False</td>\n",
       "      <td>False</td>\n",
       "      <td>False</td>\n",
       "      <td>False</td>\n",
       "      <td>False</td>\n",
       "      <td>False</td>\n",
       "      <td>False</td>\n",
       "    </tr>\n",
       "    <tr>\n",
       "      <th>sqft_living</th>\n",
       "      <td>False</td>\n",
       "      <td>False</td>\n",
       "      <td>True</td>\n",
       "      <td>True</td>\n",
       "      <td>False</td>\n",
       "      <td>False</td>\n",
       "      <td>False</td>\n",
       "      <td>False</td>\n",
       "      <td>True</td>\n",
       "      <td>False</td>\n",
       "      <td>False</td>\n",
       "    </tr>\n",
       "    <tr>\n",
       "      <th>sqft_lot</th>\n",
       "      <td>False</td>\n",
       "      <td>False</td>\n",
       "      <td>False</td>\n",
       "      <td>False</td>\n",
       "      <td>True</td>\n",
       "      <td>False</td>\n",
       "      <td>False</td>\n",
       "      <td>False</td>\n",
       "      <td>False</td>\n",
       "      <td>False</td>\n",
       "      <td>False</td>\n",
       "    </tr>\n",
       "    <tr>\n",
       "      <th>floors</th>\n",
       "      <td>False</td>\n",
       "      <td>False</td>\n",
       "      <td>False</td>\n",
       "      <td>False</td>\n",
       "      <td>False</td>\n",
       "      <td>True</td>\n",
       "      <td>False</td>\n",
       "      <td>False</td>\n",
       "      <td>False</td>\n",
       "      <td>False</td>\n",
       "      <td>False</td>\n",
       "    </tr>\n",
       "    <tr>\n",
       "      <th>waterfront</th>\n",
       "      <td>False</td>\n",
       "      <td>False</td>\n",
       "      <td>False</td>\n",
       "      <td>False</td>\n",
       "      <td>False</td>\n",
       "      <td>False</td>\n",
       "      <td>True</td>\n",
       "      <td>False</td>\n",
       "      <td>False</td>\n",
       "      <td>False</td>\n",
       "      <td>False</td>\n",
       "    </tr>\n",
       "    <tr>\n",
       "      <th>condition</th>\n",
       "      <td>False</td>\n",
       "      <td>False</td>\n",
       "      <td>False</td>\n",
       "      <td>False</td>\n",
       "      <td>False</td>\n",
       "      <td>False</td>\n",
       "      <td>False</td>\n",
       "      <td>True</td>\n",
       "      <td>False</td>\n",
       "      <td>False</td>\n",
       "      <td>False</td>\n",
       "    </tr>\n",
       "    <tr>\n",
       "      <th>grade</th>\n",
       "      <td>False</td>\n",
       "      <td>False</td>\n",
       "      <td>False</td>\n",
       "      <td>True</td>\n",
       "      <td>False</td>\n",
       "      <td>False</td>\n",
       "      <td>False</td>\n",
       "      <td>False</td>\n",
       "      <td>True</td>\n",
       "      <td>False</td>\n",
       "      <td>False</td>\n",
       "    </tr>\n",
       "    <tr>\n",
       "      <th>yr_built</th>\n",
       "      <td>False</td>\n",
       "      <td>False</td>\n",
       "      <td>False</td>\n",
       "      <td>False</td>\n",
       "      <td>False</td>\n",
       "      <td>False</td>\n",
       "      <td>False</td>\n",
       "      <td>False</td>\n",
       "      <td>False</td>\n",
       "      <td>True</td>\n",
       "      <td>False</td>\n",
       "    </tr>\n",
       "    <tr>\n",
       "      <th>renovated</th>\n",
       "      <td>False</td>\n",
       "      <td>False</td>\n",
       "      <td>False</td>\n",
       "      <td>False</td>\n",
       "      <td>False</td>\n",
       "      <td>False</td>\n",
       "      <td>False</td>\n",
       "      <td>False</td>\n",
       "      <td>False</td>\n",
       "      <td>False</td>\n",
       "      <td>True</td>\n",
       "    </tr>\n",
       "  </tbody>\n",
       "</table>\n",
       "</div>"
      ],
      "text/plain": [
       "             price  bedrooms  bathrooms  sqft_living  sqft_lot  floors  \\\n",
       "price         True     False      False        False     False   False   \n",
       "bedrooms     False      True      False        False     False   False   \n",
       "bathrooms    False     False       True         True     False   False   \n",
       "sqft_living  False     False       True         True     False   False   \n",
       "sqft_lot     False     False      False        False      True   False   \n",
       "floors       False     False      False        False     False    True   \n",
       "waterfront   False     False      False        False     False   False   \n",
       "condition    False     False      False        False     False   False   \n",
       "grade        False     False      False         True     False   False   \n",
       "yr_built     False     False      False        False     False   False   \n",
       "renovated    False     False      False        False     False   False   \n",
       "\n",
       "             waterfront  condition  grade  yr_built  renovated  \n",
       "price             False      False  False     False      False  \n",
       "bedrooms          False      False  False     False      False  \n",
       "bathrooms         False      False  False     False      False  \n",
       "sqft_living       False      False   True     False      False  \n",
       "sqft_lot          False      False  False     False      False  \n",
       "floors            False      False  False     False      False  \n",
       "waterfront         True      False  False     False      False  \n",
       "condition         False       True  False     False      False  \n",
       "grade             False      False   True     False      False  \n",
       "yr_built          False      False  False      True      False  \n",
       "renovated         False      False  False     False       True  "
      ]
     },
     "execution_count": 16,
     "metadata": {},
     "output_type": "execute_result"
    }
   ],
   "source": [
    "# Displays if correlation coefficient values is greater than 0.75\n",
    "data.corr()\n",
    "abs(data.corr()) > 0.75"
   ]
  },
  {
   "cell_type": "code",
   "execution_count": 17,
   "metadata": {
    "ExecuteTime": {
     "end_time": "2021-03-26T22:02:05.079903Z",
     "start_time": "2021-03-26T22:02:05.050981Z"
    }
   },
   "outputs": [
    {
     "data": {
      "text/html": [
       "<div>\n",
       "<style scoped>\n",
       "    .dataframe tbody tr th:only-of-type {\n",
       "        vertical-align: middle;\n",
       "    }\n",
       "\n",
       "    .dataframe tbody tr th {\n",
       "        vertical-align: top;\n",
       "    }\n",
       "\n",
       "    .dataframe thead th {\n",
       "        text-align: right;\n",
       "    }\n",
       "</style>\n",
       "<table border=\"1\" class=\"dataframe\">\n",
       "  <thead>\n",
       "    <tr style=\"text-align: right;\">\n",
       "      <th></th>\n",
       "      <th>cc</th>\n",
       "    </tr>\n",
       "    <tr>\n",
       "      <th>pairs</th>\n",
       "      <th></th>\n",
       "    </tr>\n",
       "  </thead>\n",
       "  <tbody>\n",
       "    <tr>\n",
       "      <th>(grade, sqft_living)</th>\n",
       "      <td>0.762779</td>\n",
       "    </tr>\n",
       "    <tr>\n",
       "      <th>(sqft_living, bathrooms)</th>\n",
       "      <td>0.755758</td>\n",
       "    </tr>\n",
       "  </tbody>\n",
       "</table>\n",
       "</div>"
      ],
      "text/plain": [
       "                                cc\n",
       "pairs                             \n",
       "(grade, sqft_living)      0.762779\n",
       "(sqft_living, bathrooms)  0.755758"
      ]
     },
     "execution_count": 17,
     "metadata": {},
     "output_type": "execute_result"
    }
   ],
   "source": [
    "# Finds which column pairs have a CC values > 0.75\n",
    "df_mc = data.corr().abs().stack().reset_index().sort_values(0, ascending=False)\n",
    "\n",
    "df_mc['pairs'] = list(zip(df_mc.level_0, df_mc.level_1))\n",
    "\n",
    "df_mc.set_index(['pairs'], inplace = True)\n",
    "\n",
    "df_mc.drop(columns=['level_1', 'level_0'], inplace = True)\n",
    "\n",
    "# cc for correlation coefficient\n",
    "df_mc.columns = ['cc']\n",
    "\n",
    "df_mc.drop_duplicates(inplace=True)\n",
    "\n",
    "df_mc[(df_mc.cc>.75) & (df_mc.cc<1)]"
   ]
  },
  {
   "cell_type": "markdown",
   "metadata": {},
   "source": [
    "The correlation table tells us that it may be better to drop __sqft_living__ as it is highly correlated with other variables."
   ]
  },
  {
   "cell_type": "code",
   "execution_count": 18,
   "metadata": {
    "ExecuteTime": {
     "end_time": "2021-03-26T22:02:05.408378Z",
     "start_time": "2021-03-26T22:02:05.080901Z"
    }
   },
   "outputs": [
    {
     "data": {
      "image/png": "[encoded data removed]",
      "text/plain": [
       "<Figure size 432x288 with 2 Axes>"
      ]
     },
     "metadata": {
      "needs_background": "light"
     },
     "output_type": "display_data"
    }
   ],
   "source": [
    "# Heatmap for correlation values\n",
    "import seaborn as sns\n",
    "sns.heatmap(data.corr(), cmap='plasma', center=0);"
   ]
  },
  {
   "cell_type": "markdown",
   "metadata": {},
   "source": [
    "## Modeling\n",
    "\n",
    "Now that we have explored the data, we can finally move on to create models to properly see the effects of each of the factors on housing sale prices. \n",
    "\n",
    "_Finally, you'll create a definitive model. This will include fitting an initial regression model, and then conducting statistical analyses of the results. You'll take a look at the p-values of the various features and perform some feature selection. You'll test for regression assumptions including normality, heteroscedasticity, and independence. From these tests, you'll then refine and improve the model, not just for performance, but for interpretability as well._"
   ]
  },
  {
   "cell_type": "markdown",
   "metadata": {},
   "source": [
    "### Model 1: Initial Regression model\n",
    "\n",
    "Let's model for a non-editted clean dataset"
   ]
  },
  {
   "cell_type": "code",
   "execution_count": 19,
   "metadata": {
    "ExecuteTime": {
     "end_time": "2021-03-26T22:02:05.423337Z",
     "start_time": "2021-03-26T22:02:05.409374Z"
    }
   },
   "outputs": [
    {
     "data": {
      "text/html": [
       "<div>\n",
       "<style scoped>\n",
       "    .dataframe tbody tr th:only-of-type {\n",
       "        vertical-align: middle;\n",
       "    }\n",
       "\n",
       "    .dataframe tbody tr th {\n",
       "        vertical-align: top;\n",
       "    }\n",
       "\n",
       "    .dataframe thead th {\n",
       "        text-align: right;\n",
       "    }\n",
       "</style>\n",
       "<table border=\"1\" class=\"dataframe\">\n",
       "  <thead>\n",
       "    <tr style=\"text-align: right;\">\n",
       "      <th></th>\n",
       "      <th>price</th>\n",
       "      <th>bedrooms</th>\n",
       "      <th>bathrooms</th>\n",
       "      <th>sqft_living</th>\n",
       "      <th>sqft_lot</th>\n",
       "      <th>floors</th>\n",
       "      <th>waterfront</th>\n",
       "      <th>condition</th>\n",
       "      <th>grade</th>\n",
       "      <th>yr_built</th>\n",
       "      <th>renovated</th>\n",
       "    </tr>\n",
       "  </thead>\n",
       "  <tbody>\n",
       "    <tr>\n",
       "      <th>0</th>\n",
       "      <td>221900.0</td>\n",
       "      <td>3</td>\n",
       "      <td>1.00</td>\n",
       "      <td>1180</td>\n",
       "      <td>5650</td>\n",
       "      <td>1.0</td>\n",
       "      <td>0.0</td>\n",
       "      <td>3</td>\n",
       "      <td>7</td>\n",
       "      <td>1955</td>\n",
       "      <td>0.0</td>\n",
       "    </tr>\n",
       "    <tr>\n",
       "      <th>1</th>\n",
       "      <td>538000.0</td>\n",
       "      <td>3</td>\n",
       "      <td>2.25</td>\n",
       "      <td>2570</td>\n",
       "      <td>7242</td>\n",
       "      <td>2.0</td>\n",
       "      <td>0.0</td>\n",
       "      <td>3</td>\n",
       "      <td>7</td>\n",
       "      <td>1951</td>\n",
       "      <td>1.0</td>\n",
       "    </tr>\n",
       "    <tr>\n",
       "      <th>2</th>\n",
       "      <td>180000.0</td>\n",
       "      <td>2</td>\n",
       "      <td>1.00</td>\n",
       "      <td>770</td>\n",
       "      <td>10000</td>\n",
       "      <td>1.0</td>\n",
       "      <td>0.0</td>\n",
       "      <td>3</td>\n",
       "      <td>6</td>\n",
       "      <td>1933</td>\n",
       "      <td>0.0</td>\n",
       "    </tr>\n",
       "    <tr>\n",
       "      <th>3</th>\n",
       "      <td>604000.0</td>\n",
       "      <td>4</td>\n",
       "      <td>3.00</td>\n",
       "      <td>1960</td>\n",
       "      <td>5000</td>\n",
       "      <td>1.0</td>\n",
       "      <td>0.0</td>\n",
       "      <td>5</td>\n",
       "      <td>7</td>\n",
       "      <td>1965</td>\n",
       "      <td>0.0</td>\n",
       "    </tr>\n",
       "    <tr>\n",
       "      <th>4</th>\n",
       "      <td>510000.0</td>\n",
       "      <td>3</td>\n",
       "      <td>2.00</td>\n",
       "      <td>1680</td>\n",
       "      <td>8080</td>\n",
       "      <td>1.0</td>\n",
       "      <td>0.0</td>\n",
       "      <td>3</td>\n",
       "      <td>8</td>\n",
       "      <td>1987</td>\n",
       "      <td>0.0</td>\n",
       "    </tr>\n",
       "  </tbody>\n",
       "</table>\n",
       "</div>"
      ],
      "text/plain": [
       "      price  bedrooms  bathrooms  sqft_living  sqft_lot  floors  waterfront  \\\n",
       "0  221900.0         3       1.00         1180      5650     1.0         0.0   \n",
       "1  538000.0         3       2.25         2570      7242     2.0         0.0   \n",
       "2  180000.0         2       1.00          770     10000     1.0         0.0   \n",
       "3  604000.0         4       3.00         1960      5000     1.0         0.0   \n",
       "4  510000.0         3       2.00         1680      8080     1.0         0.0   \n",
       "\n",
       "   condition  grade  yr_built  renovated  \n",
       "0          3      7      1955        0.0  \n",
       "1          3      7      1951        1.0  \n",
       "2          3      6      1933        0.0  \n",
       "3          5      7      1965        0.0  \n",
       "4          3      8      1987        0.0  "
      ]
     },
     "execution_count": 19,
     "metadata": {},
     "output_type": "execute_result"
    }
   ],
   "source": [
    "#Bring in a clean copy of dataset\n",
    "data_1 = data.copy()\n",
    "data_1.head()"
   ]
  },
  {
   "cell_type": "code",
   "execution_count": 20,
   "metadata": {
    "ExecuteTime": {
     "end_time": "2021-03-26T22:02:05.438297Z",
     "start_time": "2021-03-26T22:02:05.424335Z"
    }
   },
   "outputs": [],
   "source": [
    "# Define the problem\n",
    "outcome = 'price'\n",
    "x_cols = ['bedrooms','bathrooms','sqft_living','sqft_lot','floors','waterfront',\n",
    "          'condition','grade','yr_built','renovated']"
   ]
  },
  {
   "cell_type": "code",
   "execution_count": 21,
   "metadata": {
    "ExecuteTime": {
     "end_time": "2021-03-26T22:02:05.470212Z",
     "start_time": "2021-03-26T22:02:05.439296Z"
    }
   },
   "outputs": [
    {
     "data": {
      "text/html": [
       "<div>\n",
       "<style scoped>\n",
       "    .dataframe tbody tr th:only-of-type {\n",
       "        vertical-align: middle;\n",
       "    }\n",
       "\n",
       "    .dataframe tbody tr th {\n",
       "        vertical-align: top;\n",
       "    }\n",
       "\n",
       "    .dataframe thead th {\n",
       "        text-align: right;\n",
       "    }\n",
       "</style>\n",
       "<table border=\"1\" class=\"dataframe\">\n",
       "  <thead>\n",
       "    <tr style=\"text-align: right;\">\n",
       "      <th></th>\n",
       "      <th>price</th>\n",
       "      <th>bedrooms</th>\n",
       "      <th>bathrooms</th>\n",
       "      <th>sqft_living</th>\n",
       "      <th>sqft_lot</th>\n",
       "      <th>floors</th>\n",
       "      <th>waterfront</th>\n",
       "      <th>condition</th>\n",
       "      <th>grade</th>\n",
       "      <th>yr_built</th>\n",
       "      <th>renovated</th>\n",
       "    </tr>\n",
       "  </thead>\n",
       "  <tbody>\n",
       "    <tr>\n",
       "      <th>0</th>\n",
       "      <td>221900.0</td>\n",
       "      <td>-0.402894</td>\n",
       "      <td>-1.451039</td>\n",
       "      <td>-0.980629</td>\n",
       "      <td>-0.228177</td>\n",
       "      <td>-0.915531</td>\n",
       "      <td>-0.082498</td>\n",
       "      <td>-0.629972</td>\n",
       "      <td>-0.560787</td>\n",
       "      <td>-0.544665</td>\n",
       "      <td>-0.188883</td>\n",
       "    </tr>\n",
       "    <tr>\n",
       "      <th>1</th>\n",
       "      <td>538000.0</td>\n",
       "      <td>-0.402894</td>\n",
       "      <td>0.174482</td>\n",
       "      <td>0.533357</td>\n",
       "      <td>-0.189735</td>\n",
       "      <td>0.937409</td>\n",
       "      <td>-0.082498</td>\n",
       "      <td>-0.629972</td>\n",
       "      <td>-0.560787</td>\n",
       "      <td>-0.680835</td>\n",
       "      <td>5.294046</td>\n",
       "    </tr>\n",
       "    <tr>\n",
       "      <th>2</th>\n",
       "      <td>180000.0</td>\n",
       "      <td>-1.482459</td>\n",
       "      <td>-1.451039</td>\n",
       "      <td>-1.427201</td>\n",
       "      <td>-0.123137</td>\n",
       "      <td>-0.915531</td>\n",
       "      <td>-0.082498</td>\n",
       "      <td>-0.629972</td>\n",
       "      <td>-1.413157</td>\n",
       "      <td>-1.293596</td>\n",
       "      <td>-0.188883</td>\n",
       "    </tr>\n",
       "    <tr>\n",
       "      <th>3</th>\n",
       "      <td>604000.0</td>\n",
       "      <td>0.676671</td>\n",
       "      <td>1.149794</td>\n",
       "      <td>-0.131054</td>\n",
       "      <td>-0.243873</td>\n",
       "      <td>-0.915531</td>\n",
       "      <td>-0.082498</td>\n",
       "      <td>2.444371</td>\n",
       "      <td>-0.560787</td>\n",
       "      <td>-0.204243</td>\n",
       "      <td>-0.188883</td>\n",
       "    </tr>\n",
       "    <tr>\n",
       "      <th>4</th>\n",
       "      <td>510000.0</td>\n",
       "      <td>-0.402894</td>\n",
       "      <td>-0.150622</td>\n",
       "      <td>-0.436030</td>\n",
       "      <td>-0.169499</td>\n",
       "      <td>-0.915531</td>\n",
       "      <td>-0.082498</td>\n",
       "      <td>-0.629972</td>\n",
       "      <td>0.291583</td>\n",
       "      <td>0.544688</td>\n",
       "      <td>-0.188883</td>\n",
       "    </tr>\n",
       "  </tbody>\n",
       "</table>\n",
       "</div>"
      ],
      "text/plain": [
       "      price  bedrooms  bathrooms  sqft_living  sqft_lot    floors  waterfront  \\\n",
       "0  221900.0 -0.402894  -1.451039    -0.980629 -0.228177 -0.915531   -0.082498   \n",
       "1  538000.0 -0.402894   0.174482     0.533357 -0.189735  0.937409   -0.082498   \n",
       "2  180000.0 -1.482459  -1.451039    -1.427201 -0.123137 -0.915531   -0.082498   \n",
       "3  604000.0  0.676671   1.149794    -0.131054 -0.243873 -0.915531   -0.082498   \n",
       "4  510000.0 -0.402894  -0.150622    -0.436030 -0.169499 -0.915531   -0.082498   \n",
       "\n",
       "   condition     grade  yr_built  renovated  \n",
       "0  -0.629972 -0.560787 -0.544665  -0.188883  \n",
       "1  -0.629972 -0.560787 -0.680835   5.294046  \n",
       "2  -0.629972 -1.413157 -1.293596  -0.188883  \n",
       "3   2.444371 -0.560787 -0.204243  -0.188883  \n",
       "4  -0.629972  0.291583  0.544688  -0.188883  "
      ]
     },
     "execution_count": 21,
     "metadata": {},
     "output_type": "execute_result"
    }
   ],
   "source": [
    "# Brief preprocessing (normalize)\n",
    "data_1.columns = [col.replace(' ', '_') for col in data_1.columns]\n",
    "for col in x_cols:\n",
    "    data_1[col] = (data_1[col] - data_1[col].mean())/data_1[col].std()\n",
    "data_1.head()"
   ]
  },
  {
   "cell_type": "code",
   "execution_count": 22,
   "metadata": {
    "ExecuteTime": {
     "end_time": "2021-03-26T22:02:05.532075Z",
     "start_time": "2021-03-26T22:02:05.471209Z"
    }
   },
   "outputs": [
    {
     "data": {
      "text/html": [
       "<table class=\"simpletable\">\n",
       "<caption>OLS Regression Results</caption>\n",
       "<tr>\n",
       "  <th>Dep. Variable:</th>          <td>price</td>      <th>  R-squared:         </th>  <td>   0.646</td>  \n",
       "</tr>\n",
       "<tr>\n",
       "  <th>Model:</th>                   <td>OLS</td>       <th>  Adj. R-squared:    </th>  <td>   0.646</td>  \n",
       "</tr>\n",
       "<tr>\n",
       "  <th>Method:</th>             <td>Least Squares</td>  <th>  F-statistic:       </th>  <td>   3936.</td>  \n",
       "</tr>\n",
       "<tr>\n",
       "  <th>Date:</th>             <td>Fri, 26 Mar 2021</td> <th>  Prob (F-statistic):</th>   <td>  0.00</td>   \n",
       "</tr>\n",
       "<tr>\n",
       "  <th>Time:</th>                 <td>17:02:05</td>     <th>  Log-Likelihood:    </th> <td>-2.9618e+05</td>\n",
       "</tr>\n",
       "<tr>\n",
       "  <th>No. Observations:</th>      <td> 21597</td>      <th>  AIC:               </th>  <td>5.924e+05</td> \n",
       "</tr>\n",
       "<tr>\n",
       "  <th>Df Residuals:</th>          <td> 21586</td>      <th>  BIC:               </th>  <td>5.925e+05</td> \n",
       "</tr>\n",
       "<tr>\n",
       "  <th>Df Model:</th>              <td>    10</td>      <th>                     </th>      <td> </td>     \n",
       "</tr>\n",
       "<tr>\n",
       "  <th>Covariance Type:</th>      <td>nonrobust</td>    <th>                     </th>      <td> </td>     \n",
       "</tr>\n",
       "</table>\n",
       "<table class=\"simpletable\">\n",
       "<tr>\n",
       "       <td></td>          <th>coef</th>     <th>std err</th>      <th>t</th>      <th>P>|t|</th>  <th>[0.025</th>    <th>0.975]</th>  \n",
       "</tr>\n",
       "<tr>\n",
       "  <th>Intercept</th>   <td> 5.403e+05</td> <td> 1488.046</td> <td>  363.091</td> <td> 0.000</td> <td> 5.37e+05</td> <td> 5.43e+05</td>\n",
       "</tr>\n",
       "<tr>\n",
       "  <th>bedrooms</th>    <td>-3.926e+04</td> <td> 1899.954</td> <td>  -20.661</td> <td> 0.000</td> <td> -4.3e+04</td> <td>-3.55e+04</td>\n",
       "</tr>\n",
       "<tr>\n",
       "  <th>bathrooms</th>   <td> 3.797e+04</td> <td> 2676.661</td> <td>   14.186</td> <td> 0.000</td> <td> 3.27e+04</td> <td> 4.32e+04</td>\n",
       "</tr>\n",
       "<tr>\n",
       "  <th>sqft_living</th> <td> 1.628e+05</td> <td> 3032.354</td> <td>   53.681</td> <td> 0.000</td> <td> 1.57e+05</td> <td> 1.69e+05</td>\n",
       "</tr>\n",
       "<tr>\n",
       "  <th>sqft_lot</th>    <td>-1.009e+04</td> <td> 1523.012</td> <td>   -6.626</td> <td> 0.000</td> <td>-1.31e+04</td> <td>-7106.699</td>\n",
       "</tr>\n",
       "<tr>\n",
       "  <th>floors</th>      <td> 1.109e+04</td> <td> 1868.274</td> <td>    5.937</td> <td> 0.000</td> <td> 7430.270</td> <td> 1.48e+04</td>\n",
       "</tr>\n",
       "<tr>\n",
       "  <th>waterfront</th>  <td> 6.161e+04</td> <td> 1506.519</td> <td>   40.893</td> <td> 0.000</td> <td> 5.87e+04</td> <td> 6.46e+04</td>\n",
       "</tr>\n",
       "<tr>\n",
       "  <th>condition</th>   <td> 1.313e+04</td> <td> 1636.323</td> <td>    8.023</td> <td> 0.000</td> <td> 9920.488</td> <td> 1.63e+04</td>\n",
       "</tr>\n",
       "<tr>\n",
       "  <th>grade</th>       <td> 1.525e+05</td> <td> 2529.246</td> <td>   60.278</td> <td> 0.000</td> <td> 1.47e+05</td> <td> 1.57e+05</td>\n",
       "</tr>\n",
       "<tr>\n",
       "  <th>yr_built</th>    <td> -1.11e+05</td> <td> 2051.663</td> <td>  -54.096</td> <td> 0.000</td> <td>-1.15e+05</td> <td>-1.07e+05</td>\n",
       "</tr>\n",
       "<tr>\n",
       "  <th>renovated</th>   <td> 5148.1096</td> <td> 1568.491</td> <td>    3.282</td> <td> 0.001</td> <td> 2073.751</td> <td> 8222.469</td>\n",
       "</tr>\n",
       "</table>\n",
       "<table class=\"simpletable\">\n",
       "<tr>\n",
       "  <th>Omnibus:</th>       <td>15847.561</td> <th>  Durbin-Watson:     </th>  <td>   1.976</td>  \n",
       "</tr>\n",
       "<tr>\n",
       "  <th>Prob(Omnibus):</th>  <td> 0.000</td>   <th>  Jarque-Bera (JB):  </th> <td>1006961.287</td>\n",
       "</tr>\n",
       "<tr>\n",
       "  <th>Skew:</th>           <td> 2.936</td>   <th>  Prob(JB):          </th>  <td>    0.00</td>  \n",
       "</tr>\n",
       "<tr>\n",
       "  <th>Kurtosis:</th>       <td>35.932</td>   <th>  Cond. No.          </th>  <td>    4.77</td>  \n",
       "</tr>\n",
       "</table><br/><br/>Notes:<br/>[1] Standard Errors assume that the covariance matrix of the errors is correctly specified."
      ],
      "text/plain": [
       "<class 'statsmodels.iolib.summary.Summary'>\n",
       "\"\"\"\n",
       "                            OLS Regression Results                            \n",
       "==============================================================================\n",
       "Dep. Variable:                  price   R-squared:                       0.646\n",
       "Model:                            OLS   Adj. R-squared:                  0.646\n",
       "Method:                 Least Squares   F-statistic:                     3936.\n",
       "Date:                Fri, 26 Mar 2021   Prob (F-statistic):               0.00\n",
       "Time:                        17:02:05   Log-Likelihood:            -2.9618e+05\n",
       "No. Observations:               21597   AIC:                         5.924e+05\n",
       "Df Residuals:                   21586   BIC:                         5.925e+05\n",
       "Df Model:                          10                                         \n",
       "Covariance Type:            nonrobust                                         \n",
       "===============================================================================\n",
       "                  coef    std err          t      P>|t|      [0.025      0.975]\n",
       "-------------------------------------------------------------------------------\n",
       "Intercept    5.403e+05   1488.046    363.091      0.000    5.37e+05    5.43e+05\n",
       "bedrooms    -3.926e+04   1899.954    -20.661      0.000    -4.3e+04   -3.55e+04\n",
       "bathrooms    3.797e+04   2676.661     14.186      0.000    3.27e+04    4.32e+04\n",
       "sqft_living  1.628e+05   3032.354     53.681      0.000    1.57e+05    1.69e+05\n",
       "sqft_lot    -1.009e+04   1523.012     -6.626      0.000   -1.31e+04   -7106.699\n",
       "floors       1.109e+04   1868.274      5.937      0.000    7430.270    1.48e+04\n",
       "waterfront   6.161e+04   1506.519     40.893      0.000    5.87e+04    6.46e+04\n",
       "condition    1.313e+04   1636.323      8.023      0.000    9920.488    1.63e+04\n",
       "grade        1.525e+05   2529.246     60.278      0.000    1.47e+05    1.57e+05\n",
       "yr_built     -1.11e+05   2051.663    -54.096      0.000   -1.15e+05   -1.07e+05\n",
       "renovated    5148.1096   1568.491      3.282      0.001    2073.751    8222.469\n",
       "==============================================================================\n",
       "Omnibus:                    15847.561   Durbin-Watson:                   1.976\n",
       "Prob(Omnibus):                  0.000   Jarque-Bera (JB):          1006961.287\n",
       "Skew:                           2.936   Prob(JB):                         0.00\n",
       "Kurtosis:                      35.932   Cond. No.                         4.77\n",
       "==============================================================================\n",
       "\n",
       "Notes:\n",
       "[1] Standard Errors assume that the covariance matrix of the errors is correctly specified.\n",
       "\"\"\""
      ]
     },
     "execution_count": 22,
     "metadata": {},
     "output_type": "execute_result"
    }
   ],
   "source": [
    "# Fitting the actual model\n",
    "predictors = '+'.join(x_cols)\n",
    "formula = outcome + '~' + predictors\n",
    "model = ols(formula=formula, data=data_1).fit()\n",
    "model.summary()"
   ]
  },
  {
   "cell_type": "code",
   "execution_count": 23,
   "metadata": {
    "ExecuteTime": {
     "end_time": "2021-03-26T22:02:05.548004Z",
     "start_time": "2021-03-26T22:02:05.536036Z"
    }
   },
   "outputs": [],
   "source": [
    "# Create a function for getting linear regression information from housing dataset\n",
    "def linear_reg_sum(data):\n",
    "    df = data.copy()\n",
    "    \n",
    "    y = df['price']\n",
    "    X = df.drop(['price'], axis=1)\n",
    "    X_train, X_test, y_train, y_test = train_test_split(X, y, test_size=0.2, random_state=10)\n",
    "    \n",
    "    # Training\n",
    "    linreg = LinearRegression()\n",
    "    linreg.fit(X_train, y_train)\n",
    "    y_hat_train = linreg.predict(X_train)\n",
    "    y_hat_test = linreg.predict(X_test)\n",
    "    \n",
    "    # Significant score calculations\n",
    "    print(f'R^2 Score of Train: {metrics.r2_score(y_train, y_hat_train)}')\n",
    "    print(f'RMSE of Train: {np.sqrt(metrics.mean_squared_error(y_train, y_hat_train))}')\n",
    "    print(f'RMSE of Test: {np.sqrt(metrics.mean_squared_error(y_test, y_hat_test))}')"
   ]
  },
  {
   "cell_type": "code",
   "execution_count": 24,
   "metadata": {
    "ExecuteTime": {
     "end_time": "2021-03-26T22:02:05.611500Z",
     "start_time": "2021-03-26T22:02:05.550996Z"
    }
   },
   "outputs": [
    {
     "name": "stdout",
     "output_type": "stream",
     "text": [
      "R^2 Score of Train: 0.6462647629327138\n",
      "RMSE of Train: 218410.57979528894\n",
      "RMSE of Test: 219640.70438864545\n"
     ]
    }
   ],
   "source": [
    "linear_reg_sum(data_1)"
   ]
  },
  {
   "cell_type": "code",
   "execution_count": 25,
   "metadata": {
    "ExecuteTime": {
     "end_time": "2021-03-26T22:02:05.828966Z",
     "start_time": "2021-03-26T22:02:05.613496Z"
    }
   },
   "outputs": [
    {
     "data": {
      "image/png": "[encoded data removed]",
      "text/plain": [
       "<Figure size 432x288 with 1 Axes>"
      ]
     },
     "metadata": {
      "needs_background": "light"
     },
     "output_type": "display_data"
    }
   ],
   "source": [
    "# Q-Q plot\n",
    "fig = sm.graphics.qqplot(model.resid, dist=stats.norm, line='45', fit=True)"
   ]
  },
  {
   "cell_type": "markdown",
   "metadata": {},
   "source": [
    "* There were no p-values that were above 0.05\n",
    "* 'bedrooms','sqft_lot', and 'yr_built' appear to be __negatively__ correlated to price\n",
    "* 'bathrooms,'sqft_living','floors','waterfront','condition','grade', and 'renovated' are __positively__ correlated\n",
    "* The training and test model RMSE has a difference of 1,000. Appears to be a good model\n",
    "* The price residuals are quite large. There appears to be large outliers on the high end of price and a few on the lower end."
   ]
  },
  {
   "cell_type": "markdown",
   "metadata": {},
   "source": [
    "Let's check for __Homoscedasticity__:"
   ]
  },
  {
   "cell_type": "code",
   "execution_count": 26,
   "metadata": {
    "ExecuteTime": {
     "end_time": "2021-03-26T22:02:06.029891Z",
     "start_time": "2021-03-26T22:02:05.829917Z"
    }
   },
   "outputs": [
    {
     "data": {
      "text/plain": [
       "[<matplotlib.lines.Line2D at 0x249a3edb9a0>]"
      ]
     },
     "execution_count": 26,
     "metadata": {},
     "output_type": "execute_result"
    },
    {
     "data": {
      "image/png": "[encoded data removed]",
      "text/plain": [
       "<Figure size 432x288 with 1 Axes>"
      ]
     },
     "metadata": {
      "needs_background": "light"
     },
     "output_type": "display_data"
    }
   ],
   "source": [
    "plt.scatter(model.predict(data_1[x_cols]), model.resid)\n",
    "plt.plot(model.predict(data_1[x_cols]), [0 for i in range(len(data_1))])"
   ]
  },
  {
   "cell_type": "markdown",
   "metadata": {},
   "source": [
    "Model does not look good it is spreading out. Data is scattered, possibly due to outliers, categorical values, needs to be possibly log transformed. "
   ]
  },
  {
   "cell_type": "markdown",
   "metadata": {},
   "source": [
    "### Model 2: Price Outliers\n",
    "\n",
    "As we have observed on the previous model, let's address the price outliers we saw. This should lead to a better Q-Q plot."
   ]
  },
  {
   "cell_type": "code",
   "execution_count": 27,
   "metadata": {
    "ExecuteTime": {
     "end_time": "2021-03-26T22:02:06.045848Z",
     "start_time": "2021-03-26T22:02:06.030889Z"
    }
   },
   "outputs": [],
   "source": [
    "# Make a copy of data for Model 2\n",
    "data_2 = data.copy()"
   ]
  },
  {
   "cell_type": "markdown",
   "metadata": {},
   "source": [
    "We need to look at the distribution of __'price'__ to see what outliers we can remove."
   ]
  },
  {
   "cell_type": "code",
   "execution_count": 28,
   "metadata": {
    "ExecuteTime": {
     "end_time": "2021-03-26T22:02:06.168543Z",
     "start_time": "2021-03-26T22:02:06.046845Z"
    }
   },
   "outputs": [
    {
     "data": {
      "text/plain": [
       "<AxesSubplot:xlabel='price'>"
      ]
     },
     "execution_count": 28,
     "metadata": {},
     "output_type": "execute_result"
    },
    {
     "data": {
      "image/png": "[encoded data removed]",
      "text/plain": [
       "<Figure size 432x288 with 1 Axes>"
      ]
     },
     "metadata": {
      "needs_background": "light"
     },
     "output_type": "display_data"
    }
   ],
   "source": [
    "# Boxplot of price\n",
    "sns.boxplot(x=data_2['price'])"
   ]
  },
  {
   "cell_type": "markdown",
   "metadata": {},
   "source": [
    "We can see that there are clearly several high priced homes that are outliers. \n",
    "\n",
    "Let's use the z-score to appropriately remove the outliers"
   ]
  },
  {
   "cell_type": "code",
   "execution_count": 29,
   "metadata": {
    "ExecuteTime": {
     "end_time": "2021-03-26T22:02:06.183479Z",
     "start_time": "2021-03-26T22:02:06.169517Z"
    }
   },
   "outputs": [
    {
     "data": {
      "text/plain": [
       "array([0.86671627, 0.00625157, 0.98077344, ..., 0.37618606, 0.38190525,\n",
       "       0.58606486])"
      ]
     },
     "execution_count": 29,
     "metadata": {},
     "output_type": "execute_result"
    }
   ],
   "source": [
    "# Calculate z-score\n",
    "z = np.abs(stats.zscore(data_2.price))\n",
    "z"
   ]
  },
  {
   "cell_type": "code",
   "execution_count": 30,
   "metadata": {
    "ExecuteTime": {
     "end_time": "2021-03-26T22:02:06.198439Z",
     "start_time": "2021-03-26T22:02:06.185474Z"
    }
   },
   "outputs": [],
   "source": [
    "# Removing data with price z-score > 3\n",
    "data_2_clean = data_2[(z<3)]"
   ]
  },
  {
   "cell_type": "code",
   "execution_count": 31,
   "metadata": {
    "ExecuteTime": {
     "end_time": "2021-03-26T22:02:06.324637Z",
     "start_time": "2021-03-26T22:02:06.199436Z"
    }
   },
   "outputs": [
    {
     "data": {
      "text/plain": [
       "<AxesSubplot:xlabel='price'>"
      ]
     },
     "execution_count": 31,
     "metadata": {},
     "output_type": "execute_result"
    },
    {
     "data": {
      "image/png": "[encoded data removed]",
      "text/plain": [
       "<Figure size 432x288 with 1 Axes>"
      ]
     },
     "metadata": {
      "needs_background": "light"
     },
     "output_type": "display_data"
    }
   ],
   "source": [
    "# Checking cleaned data\n",
    "sns.boxplot(x=data_2_clean['price'])"
   ]
  },
  {
   "cell_type": "code",
   "execution_count": 32,
   "metadata": {
    "ExecuteTime": {
     "end_time": "2021-03-26T22:02:06.340498Z",
     "start_time": "2021-03-26T22:02:06.325635Z"
    }
   },
   "outputs": [],
   "source": [
    "# Clean copy of data 2 (no normalization)\n",
    "data_2_no_norm = data_2_clean.copy()"
   ]
  },
  {
   "cell_type": "code",
   "execution_count": 33,
   "metadata": {
    "ExecuteTime": {
     "end_time": "2021-03-26T22:02:06.372495Z",
     "start_time": "2021-03-26T22:02:06.341493Z"
    }
   },
   "outputs": [
    {
     "data": {
      "text/html": [
       "<div>\n",
       "<style scoped>\n",
       "    .dataframe tbody tr th:only-of-type {\n",
       "        vertical-align: middle;\n",
       "    }\n",
       "\n",
       "    .dataframe tbody tr th {\n",
       "        vertical-align: top;\n",
       "    }\n",
       "\n",
       "    .dataframe thead th {\n",
       "        text-align: right;\n",
       "    }\n",
       "</style>\n",
       "<table border=\"1\" class=\"dataframe\">\n",
       "  <thead>\n",
       "    <tr style=\"text-align: right;\">\n",
       "      <th></th>\n",
       "      <th>price</th>\n",
       "      <th>bedrooms</th>\n",
       "      <th>bathrooms</th>\n",
       "      <th>sqft_living</th>\n",
       "      <th>sqft_lot</th>\n",
       "      <th>floors</th>\n",
       "      <th>waterfront</th>\n",
       "      <th>condition</th>\n",
       "      <th>grade</th>\n",
       "      <th>yr_built</th>\n",
       "      <th>renovated</th>\n",
       "    </tr>\n",
       "  </thead>\n",
       "  <tbody>\n",
       "    <tr>\n",
       "      <th>0</th>\n",
       "      <td>221900.0</td>\n",
       "      <td>-0.388103</td>\n",
       "      <td>-1.477557</td>\n",
       "      <td>-1.018820</td>\n",
       "      <td>-0.227141</td>\n",
       "      <td>-0.904441</td>\n",
       "      <td>-0.061557</td>\n",
       "      <td>-0.628831</td>\n",
       "      <td>-0.545857</td>\n",
       "      <td>-0.543841</td>\n",
       "      <td>-0.183866</td>\n",
       "    </tr>\n",
       "    <tr>\n",
       "      <th>1</th>\n",
       "      <td>538000.0</td>\n",
       "      <td>-0.388103</td>\n",
       "      <td>0.220763</td>\n",
       "      <td>0.642392</td>\n",
       "      <td>-0.187736</td>\n",
       "      <td>0.953270</td>\n",
       "      <td>-0.061557</td>\n",
       "      <td>-0.628831</td>\n",
       "      <td>-0.545857</td>\n",
       "      <td>-0.680428</td>\n",
       "      <td>5.438497</td>\n",
       "    </tr>\n",
       "    <tr>\n",
       "      <th>2</th>\n",
       "      <td>180000.0</td>\n",
       "      <td>-1.477989</td>\n",
       "      <td>-1.477557</td>\n",
       "      <td>-1.508818</td>\n",
       "      <td>-0.119471</td>\n",
       "      <td>-0.904441</td>\n",
       "      <td>-0.061557</td>\n",
       "      <td>-0.628831</td>\n",
       "      <td>-1.447647</td>\n",
       "      <td>-1.295072</td>\n",
       "      <td>-0.183866</td>\n",
       "    </tr>\n",
       "    <tr>\n",
       "      <th>3</th>\n",
       "      <td>604000.0</td>\n",
       "      <td>0.701784</td>\n",
       "      <td>1.239755</td>\n",
       "      <td>-0.086629</td>\n",
       "      <td>-0.243230</td>\n",
       "      <td>-0.904441</td>\n",
       "      <td>-0.061557</td>\n",
       "      <td>2.453293</td>\n",
       "      <td>-0.545857</td>\n",
       "      <td>-0.202372</td>\n",
       "      <td>-0.183866</td>\n",
       "    </tr>\n",
       "    <tr>\n",
       "      <th>4</th>\n",
       "      <td>510000.0</td>\n",
       "      <td>-0.388103</td>\n",
       "      <td>-0.118901</td>\n",
       "      <td>-0.421262</td>\n",
       "      <td>-0.166994</td>\n",
       "      <td>-0.904441</td>\n",
       "      <td>-0.061557</td>\n",
       "      <td>-0.628831</td>\n",
       "      <td>0.355933</td>\n",
       "      <td>0.548859</td>\n",
       "      <td>-0.183866</td>\n",
       "    </tr>\n",
       "  </tbody>\n",
       "</table>\n",
       "</div>"
      ],
      "text/plain": [
       "      price  bedrooms  bathrooms  sqft_living  sqft_lot    floors  waterfront  \\\n",
       "0  221900.0 -0.388103  -1.477557    -1.018820 -0.227141 -0.904441   -0.061557   \n",
       "1  538000.0 -0.388103   0.220763     0.642392 -0.187736  0.953270   -0.061557   \n",
       "2  180000.0 -1.477989  -1.477557    -1.508818 -0.119471 -0.904441   -0.061557   \n",
       "3  604000.0  0.701784   1.239755    -0.086629 -0.243230 -0.904441   -0.061557   \n",
       "4  510000.0 -0.388103  -0.118901    -0.421262 -0.166994 -0.904441   -0.061557   \n",
       "\n",
       "   condition     grade  yr_built  renovated  \n",
       "0  -0.628831 -0.545857 -0.543841  -0.183866  \n",
       "1  -0.628831 -0.545857 -0.680428   5.438497  \n",
       "2  -0.628831 -1.447647 -1.295072  -0.183866  \n",
       "3   2.453293 -0.545857 -0.202372  -0.183866  \n",
       "4  -0.628831  0.355933  0.548859  -0.183866  "
      ]
     },
     "execution_count": 33,
     "metadata": {},
     "output_type": "execute_result"
    }
   ],
   "source": [
    "# Brief preprocessing (normalize)\n",
    "data_2_clean.columns = [col.replace(' ', '_') for col in data_2_clean.columns]\n",
    "for col in x_cols:\n",
    "    data_2_clean[col] = (data_2_clean[col] - data_2_clean[col].mean())/data_2_clean[col].std()\n",
    "data_2_clean.head()"
   ]
  },
  {
   "cell_type": "markdown",
   "metadata": {},
   "source": [
    "Let's see our new model"
   ]
  },
  {
   "cell_type": "code",
   "execution_count": 34,
   "metadata": {
    "ExecuteTime": {
     "end_time": "2021-03-26T22:02:06.388562Z",
     "start_time": "2021-03-26T22:02:06.373492Z"
    }
   },
   "outputs": [],
   "source": [
    "# Define the problem\n",
    "X = data_2_clean.drop(['price'], axis=1)\n",
    "y = data_2_clean['price']"
   ]
  },
  {
   "cell_type": "code",
   "execution_count": 35,
   "metadata": {
    "ExecuteTime": {
     "end_time": "2021-03-26T22:02:06.436444Z",
     "start_time": "2021-03-26T22:02:06.390539Z"
    }
   },
   "outputs": [
    {
     "data": {
      "text/html": [
       "<table class=\"simpletable\">\n",
       "<caption>OLS Regression Results</caption>\n",
       "<tr>\n",
       "  <th>Dep. Variable:</th>          <td>price</td>      <th>  R-squared:         </th>  <td>   0.616</td>  \n",
       "</tr>\n",
       "<tr>\n",
       "  <th>Model:</th>                   <td>OLS</td>       <th>  Adj. R-squared:    </th>  <td>   0.616</td>  \n",
       "</tr>\n",
       "<tr>\n",
       "  <th>Method:</th>             <td>Least Squares</td>  <th>  F-statistic:       </th>  <td>   3400.</td>  \n",
       "</tr>\n",
       "<tr>\n",
       "  <th>Date:</th>             <td>Fri, 26 Mar 2021</td> <th>  Prob (F-statistic):</th>   <td>  0.00</td>   \n",
       "</tr>\n",
       "<tr>\n",
       "  <th>Time:</th>                 <td>17:02:06</td>     <th>  Log-Likelihood:    </th> <td>-2.8410e+05</td>\n",
       "</tr>\n",
       "<tr>\n",
       "  <th>No. Observations:</th>      <td> 21191</td>      <th>  AIC:               </th>  <td>5.682e+05</td> \n",
       "</tr>\n",
       "<tr>\n",
       "  <th>Df Residuals:</th>          <td> 21180</td>      <th>  BIC:               </th>  <td>5.683e+05</td> \n",
       "</tr>\n",
       "<tr>\n",
       "  <th>Df Model:</th>              <td>    10</td>      <th>                     </th>      <td> </td>     \n",
       "</tr>\n",
       "<tr>\n",
       "  <th>Covariance Type:</th>      <td>nonrobust</td>    <th>                     </th>      <td> </td>     \n",
       "</tr>\n",
       "</table>\n",
       "<table class=\"simpletable\">\n",
       "<tr>\n",
       "       <td></td>          <th>coef</th>     <th>std err</th>      <th>t</th>      <th>P>|t|</th>  <th>[0.025</th>    <th>0.975]</th>  \n",
       "</tr>\n",
       "<tr>\n",
       "  <th>const</th>       <td>  5.07e+05</td> <td> 1104.544</td> <td>  459.022</td> <td> 0.000</td> <td> 5.05e+05</td> <td> 5.09e+05</td>\n",
       "</tr>\n",
       "<tr>\n",
       "  <th>bedrooms</th>    <td>-1.944e+04</td> <td> 1414.903</td> <td>  -13.739</td> <td> 0.000</td> <td>-2.22e+04</td> <td>-1.67e+04</td>\n",
       "</tr>\n",
       "<tr>\n",
       "  <th>bathrooms</th>   <td> 2.673e+04</td> <td> 1927.026</td> <td>   13.872</td> <td> 0.000</td> <td>  2.3e+04</td> <td> 3.05e+04</td>\n",
       "</tr>\n",
       "<tr>\n",
       "  <th>sqft_living</th> <td> 9.199e+04</td> <td> 2151.404</td> <td>   42.758</td> <td> 0.000</td> <td> 8.78e+04</td> <td> 9.62e+04</td>\n",
       "</tr>\n",
       "<tr>\n",
       "  <th>sqft_lot</th>    <td>-2695.8273</td> <td> 1130.445</td> <td>   -2.385</td> <td> 0.017</td> <td>-4911.586</td> <td> -480.069</td>\n",
       "</tr>\n",
       "<tr>\n",
       "  <th>floors</th>      <td>  1.84e+04</td> <td> 1391.265</td> <td>   13.226</td> <td> 0.000</td> <td> 1.57e+04</td> <td> 2.11e+04</td>\n",
       "</tr>\n",
       "<tr>\n",
       "  <th>waterfront</th>  <td> 1.845e+04</td> <td> 1110.050</td> <td>   16.618</td> <td> 0.000</td> <td> 1.63e+04</td> <td> 2.06e+04</td>\n",
       "</tr>\n",
       "<tr>\n",
       "  <th>condition</th>   <td> 1.307e+04</td> <td> 1212.529</td> <td>   10.781</td> <td> 0.000</td> <td> 1.07e+04</td> <td> 1.54e+04</td>\n",
       "</tr>\n",
       "<tr>\n",
       "  <th>grade</th>       <td> 1.334e+05</td> <td> 1803.797</td> <td>   73.928</td> <td> 0.000</td> <td>  1.3e+05</td> <td> 1.37e+05</td>\n",
       "</tr>\n",
       "<tr>\n",
       "  <th>yr_built</th>    <td>-9.262e+04</td> <td> 1537.667</td> <td>  -60.233</td> <td> 0.000</td> <td>-9.56e+04</td> <td>-8.96e+04</td>\n",
       "</tr>\n",
       "<tr>\n",
       "  <th>renovated</th>   <td> 3096.1535</td> <td> 1162.382</td> <td>    2.664</td> <td> 0.008</td> <td>  817.797</td> <td> 5374.510</td>\n",
       "</tr>\n",
       "</table>\n",
       "<table class=\"simpletable\">\n",
       "<tr>\n",
       "  <th>Omnibus:</th>       <td>3269.616</td> <th>  Durbin-Watson:     </th> <td>   1.961</td>\n",
       "</tr>\n",
       "<tr>\n",
       "  <th>Prob(Omnibus):</th>  <td> 0.000</td>  <th>  Jarque-Bera (JB):  </th> <td>9201.933</td>\n",
       "</tr>\n",
       "<tr>\n",
       "  <th>Skew:</th>           <td> 0.832</td>  <th>  Prob(JB):          </th> <td>    0.00</td>\n",
       "</tr>\n",
       "<tr>\n",
       "  <th>Kurtosis:</th>       <td> 5.766</td>  <th>  Cond. No.          </th> <td>    4.55</td>\n",
       "</tr>\n",
       "</table><br/><br/>Notes:<br/>[1] Standard Errors assume that the covariance matrix of the errors is correctly specified."
      ],
      "text/plain": [
       "<class 'statsmodels.iolib.summary.Summary'>\n",
       "\"\"\"\n",
       "                            OLS Regression Results                            \n",
       "==============================================================================\n",
       "Dep. Variable:                  price   R-squared:                       0.616\n",
       "Model:                            OLS   Adj. R-squared:                  0.616\n",
       "Method:                 Least Squares   F-statistic:                     3400.\n",
       "Date:                Fri, 26 Mar 2021   Prob (F-statistic):               0.00\n",
       "Time:                        17:02:06   Log-Likelihood:            -2.8410e+05\n",
       "No. Observations:               21191   AIC:                         5.682e+05\n",
       "Df Residuals:                   21180   BIC:                         5.683e+05\n",
       "Df Model:                          10                                         \n",
       "Covariance Type:            nonrobust                                         \n",
       "===============================================================================\n",
       "                  coef    std err          t      P>|t|      [0.025      0.975]\n",
       "-------------------------------------------------------------------------------\n",
       "const         5.07e+05   1104.544    459.022      0.000    5.05e+05    5.09e+05\n",
       "bedrooms    -1.944e+04   1414.903    -13.739      0.000   -2.22e+04   -1.67e+04\n",
       "bathrooms    2.673e+04   1927.026     13.872      0.000     2.3e+04    3.05e+04\n",
       "sqft_living  9.199e+04   2151.404     42.758      0.000    8.78e+04    9.62e+04\n",
       "sqft_lot    -2695.8273   1130.445     -2.385      0.017   -4911.586    -480.069\n",
       "floors        1.84e+04   1391.265     13.226      0.000    1.57e+04    2.11e+04\n",
       "waterfront   1.845e+04   1110.050     16.618      0.000    1.63e+04    2.06e+04\n",
       "condition    1.307e+04   1212.529     10.781      0.000    1.07e+04    1.54e+04\n",
       "grade        1.334e+05   1803.797     73.928      0.000     1.3e+05    1.37e+05\n",
       "yr_built    -9.262e+04   1537.667    -60.233      0.000   -9.56e+04   -8.96e+04\n",
       "renovated    3096.1535   1162.382      2.664      0.008     817.797    5374.510\n",
       "==============================================================================\n",
       "Omnibus:                     3269.616   Durbin-Watson:                   1.961\n",
       "Prob(Omnibus):                  0.000   Jarque-Bera (JB):             9201.933\n",
       "Skew:                           0.832   Prob(JB):                         0.00\n",
       "Kurtosis:                       5.766   Cond. No.                         4.55\n",
       "==============================================================================\n",
       "\n",
       "Notes:\n",
       "[1] Standard Errors assume that the covariance matrix of the errors is correctly specified.\n",
       "\"\"\""
      ]
     },
     "execution_count": 35,
     "metadata": {},
     "output_type": "execute_result"
    }
   ],
   "source": [
    "# Fitting the actual model\n",
    "X_int = sm.add_constant(X)\n",
    "model_2 = sm.OLS(y,X_int).fit()\n",
    "model_2.summary()"
   ]
  },
  {
   "cell_type": "code",
   "execution_count": 36,
   "metadata": {
    "ExecuteTime": {
     "end_time": "2021-03-26T22:02:06.467839Z",
     "start_time": "2021-03-26T22:02:06.437437Z"
    }
   },
   "outputs": [
    {
     "name": "stdout",
     "output_type": "stream",
     "text": [
      "R^2 Score of Train: 0.61677598306974\n",
      "RMSE of Train: 161831.05989699255\n",
      "RMSE of Test: 156441.12149477913\n"
     ]
    }
   ],
   "source": [
    "linear_reg_sum(data_2_clean)"
   ]
  },
  {
   "cell_type": "code",
   "execution_count": 37,
   "metadata": {
    "ExecuteTime": {
     "end_time": "2021-03-26T22:02:06.687285Z",
     "start_time": "2021-03-26T22:02:06.469833Z"
    }
   },
   "outputs": [
    {
     "data": {
      "image/png": "[encoded data removed]",
      "text/plain": [
       "<Figure size 432x288 with 1 Axes>"
      ]
     },
     "metadata": {
      "needs_background": "light"
     },
     "output_type": "display_data"
    }
   ],
   "source": [
    "# Q-Q plot\n",
    "fig = sm.graphics.qqplot(model_2.resid, dist=stats.norm, line='45', fit=True)"
   ]
  },
  {
   "cell_type": "code",
   "execution_count": 38,
   "metadata": {
    "ExecuteTime": {
     "end_time": "2021-03-26T22:02:06.892338Z",
     "start_time": "2021-03-26T22:02:06.688249Z"
    }
   },
   "outputs": [
    {
     "data": {
      "text/plain": [
       "[<matplotlib.lines.Line2D at 0x249a3f000d0>]"
      ]
     },
     "execution_count": 38,
     "metadata": {},
     "output_type": "execute_result"
    },
    {
     "data": {
      "image/png": "[encoded data removed]",
      "text/plain": [
       "<Figure size 432x288 with 1 Axes>"
      ]
     },
     "metadata": {
      "needs_background": "light"
     },
     "output_type": "display_data"
    }
   ],
   "source": [
    "plt.scatter(model_2.predict(X_int), model_2.resid)\n",
    "plt.plot(model_2.predict(X_int), [0 for i in range(len(X_int))])"
   ]
  },
  {
   "cell_type": "markdown",
   "metadata": {},
   "source": [
    "* Q-Q plot is much more normal than before\n",
    "* R-squared value has reduced due to the removal of datapoints\n",
    "* RMSE difference between Train and Test are still fine (5k difference)\n",
    "* Homoscedasticity has improved. There is still a trend, but may be improved on with additional changes"
   ]
  },
  {
   "cell_type": "markdown",
   "metadata": {},
   "source": [
    "### Model 3: Categorical Variables\n",
    "\n",
    "Let's appropriately analyse the factors again with a few appropriately identified as categoricals."
   ]
  },
  {
   "cell_type": "code",
   "execution_count": 39,
   "metadata": {
    "ExecuteTime": {
     "end_time": "2021-03-26T22:02:06.907322Z",
     "start_time": "2021-03-26T22:02:06.893359Z"
    }
   },
   "outputs": [],
   "source": [
    "# Iterating on Model 1 data\n",
    "data_3 = data_2_no_norm.copy()"
   ]
  },
  {
   "cell_type": "code",
   "execution_count": 40,
   "metadata": {
    "ExecuteTime": {
     "end_time": "2021-03-26T22:02:06.922880Z",
     "start_time": "2021-03-26T22:02:06.908295Z"
    }
   },
   "outputs": [],
   "source": [
    "# List out the continuous and categorical variables\n",
    "continuous = ['price', 'bedrooms', 'bathrooms', 'sqft_living', 'sqft_lot', 'yr_built']\n",
    "categoricals = ['floors', 'waterfront', 'condition', 'grade','renovated']"
   ]
  },
  {
   "cell_type": "code",
   "execution_count": 41,
   "metadata": {
    "ExecuteTime": {
     "end_time": "2021-03-26T22:02:06.969686Z",
     "start_time": "2021-03-26T22:02:06.923879Z"
    }
   },
   "outputs": [],
   "source": [
    "# Change to str for dummies\n",
    "data_3['floors'] = data_3['floors'].apply(str)\n",
    "data_3['waterfront'] = data_3['waterfront'].apply(lambda x: 'yes' if x>0 else 'no')\n",
    "data_3['condition'] = data_3['condition'].apply(str)\n",
    "data_3['grade'] = data_3['grade'].apply(str)\n",
    "data_3['renovated'] = data_3['renovated'].apply(lambda x: 'yes' if x>0 else 'no')"
   ]
  },
  {
   "cell_type": "code",
   "execution_count": 42,
   "metadata": {
    "ExecuteTime": {
     "end_time": "2021-03-26T22:02:07.000634Z",
     "start_time": "2021-03-26T22:02:06.970664Z"
    }
   },
   "outputs": [
    {
     "data": {
      "text/plain": [
       "Index(['floors_1.5', 'floors_2.0', 'floors_2.5', 'floors_3.0', 'floors_3.5',\n",
       "       'waterfront_yes', 'condition_2', 'condition_3', 'condition_4',\n",
       "       'condition_5', 'grade_11', 'grade_12', 'grade_3', 'grade_4', 'grade_5',\n",
       "       'grade_6', 'grade_7', 'grade_8', 'grade_9', 'renovated_yes'],\n",
       "      dtype='object')"
      ]
     },
     "execution_count": 42,
     "metadata": {},
     "output_type": "execute_result"
    }
   ],
   "source": [
    "# Create Dummies for categorical variables\n",
    "data_ohe = pd.get_dummies(data_3[categoricals], prefix=categoricals, drop_first=True)\n",
    "data_ohe.columns"
   ]
  },
  {
   "cell_type": "code",
   "execution_count": 43,
   "metadata": {
    "ExecuteTime": {
     "end_time": "2021-03-26T22:02:07.016570Z",
     "start_time": "2021-03-26T22:02:07.001632Z"
    }
   },
   "outputs": [],
   "source": [
    "# normalize the continuous data\n",
    "data_cont = data_3[continuous]\n",
    "\n",
    "# normalize (subract mean and divide by std)\n",
    "\n",
    "def normalize(feature):\n",
    "    return (feature - feature.mean()) / feature.std()\n",
    "\n",
    "data_norm = data_cont.apply(normalize)"
   ]
  },
  {
   "cell_type": "code",
   "execution_count": 44,
   "metadata": {
    "ExecuteTime": {
     "end_time": "2021-03-26T22:02:07.675190Z",
     "start_time": "2021-03-26T22:02:07.018566Z"
    }
   },
   "outputs": [
    {
     "data": {
      "text/html": [
       "<div>\n",
       "<style scoped>\n",
       "    .dataframe tbody tr th:only-of-type {\n",
       "        vertical-align: middle;\n",
       "    }\n",
       "\n",
       "    .dataframe tbody tr th {\n",
       "        vertical-align: top;\n",
       "    }\n",
       "\n",
       "    .dataframe thead th {\n",
       "        text-align: right;\n",
       "    }\n",
       "</style>\n",
       "<table border=\"1\" class=\"dataframe\">\n",
       "  <thead>\n",
       "    <tr style=\"text-align: right;\">\n",
       "      <th></th>\n",
       "      <th>price</th>\n",
       "      <th>bedrooms</th>\n",
       "      <th>bathrooms</th>\n",
       "      <th>sqft_living</th>\n",
       "      <th>sqft_lot</th>\n",
       "      <th>yr_built</th>\n",
       "      <th>floors_1.5</th>\n",
       "      <th>floors_2.0</th>\n",
       "      <th>floors_2.5</th>\n",
       "      <th>floors_3.0</th>\n",
       "      <th>...</th>\n",
       "      <th>grade_11</th>\n",
       "      <th>grade_12</th>\n",
       "      <th>grade_3</th>\n",
       "      <th>grade_4</th>\n",
       "      <th>grade_5</th>\n",
       "      <th>grade_6</th>\n",
       "      <th>grade_7</th>\n",
       "      <th>grade_8</th>\n",
       "      <th>grade_9</th>\n",
       "      <th>renovated_yes</th>\n",
       "    </tr>\n",
       "  </thead>\n",
       "  <tbody>\n",
       "    <tr>\n",
       "      <th>0</th>\n",
       "      <td>-1.098851</td>\n",
       "      <td>-0.388103</td>\n",
       "      <td>-1.477557</td>\n",
       "      <td>-1.018820</td>\n",
       "      <td>-0.227141</td>\n",
       "      <td>-0.543841</td>\n",
       "      <td>0</td>\n",
       "      <td>0</td>\n",
       "      <td>0</td>\n",
       "      <td>0</td>\n",
       "      <td>...</td>\n",
       "      <td>0</td>\n",
       "      <td>0</td>\n",
       "      <td>0</td>\n",
       "      <td>0</td>\n",
       "      <td>0</td>\n",
       "      <td>0</td>\n",
       "      <td>1</td>\n",
       "      <td>0</td>\n",
       "      <td>0</td>\n",
       "      <td>0</td>\n",
       "    </tr>\n",
       "    <tr>\n",
       "      <th>1</th>\n",
       "      <td>0.119438</td>\n",
       "      <td>-0.388103</td>\n",
       "      <td>0.220763</td>\n",
       "      <td>0.642392</td>\n",
       "      <td>-0.187736</td>\n",
       "      <td>-0.680428</td>\n",
       "      <td>0</td>\n",
       "      <td>1</td>\n",
       "      <td>0</td>\n",
       "      <td>0</td>\n",
       "      <td>...</td>\n",
       "      <td>0</td>\n",
       "      <td>0</td>\n",
       "      <td>0</td>\n",
       "      <td>0</td>\n",
       "      <td>0</td>\n",
       "      <td>0</td>\n",
       "      <td>1</td>\n",
       "      <td>0</td>\n",
       "      <td>0</td>\n",
       "      <td>1</td>\n",
       "    </tr>\n",
       "    <tr>\n",
       "      <th>2</th>\n",
       "      <td>-1.260339</td>\n",
       "      <td>-1.477989</td>\n",
       "      <td>-1.477557</td>\n",
       "      <td>-1.508818</td>\n",
       "      <td>-0.119471</td>\n",
       "      <td>-1.295072</td>\n",
       "      <td>0</td>\n",
       "      <td>0</td>\n",
       "      <td>0</td>\n",
       "      <td>0</td>\n",
       "      <td>...</td>\n",
       "      <td>0</td>\n",
       "      <td>0</td>\n",
       "      <td>0</td>\n",
       "      <td>0</td>\n",
       "      <td>0</td>\n",
       "      <td>1</td>\n",
       "      <td>0</td>\n",
       "      <td>0</td>\n",
       "      <td>0</td>\n",
       "      <td>0</td>\n",
       "    </tr>\n",
       "    <tr>\n",
       "      <th>3</th>\n",
       "      <td>0.373811</td>\n",
       "      <td>0.701784</td>\n",
       "      <td>1.239755</td>\n",
       "      <td>-0.086629</td>\n",
       "      <td>-0.243230</td>\n",
       "      <td>-0.202372</td>\n",
       "      <td>0</td>\n",
       "      <td>0</td>\n",
       "      <td>0</td>\n",
       "      <td>0</td>\n",
       "      <td>...</td>\n",
       "      <td>0</td>\n",
       "      <td>0</td>\n",
       "      <td>0</td>\n",
       "      <td>0</td>\n",
       "      <td>0</td>\n",
       "      <td>0</td>\n",
       "      <td>1</td>\n",
       "      <td>0</td>\n",
       "      <td>0</td>\n",
       "      <td>0</td>\n",
       "    </tr>\n",
       "    <tr>\n",
       "      <th>4</th>\n",
       "      <td>0.011523</td>\n",
       "      <td>-0.388103</td>\n",
       "      <td>-0.118901</td>\n",
       "      <td>-0.421262</td>\n",
       "      <td>-0.166994</td>\n",
       "      <td>0.548859</td>\n",
       "      <td>0</td>\n",
       "      <td>0</td>\n",
       "      <td>0</td>\n",
       "      <td>0</td>\n",
       "      <td>...</td>\n",
       "      <td>0</td>\n",
       "      <td>0</td>\n",
       "      <td>0</td>\n",
       "      <td>0</td>\n",
       "      <td>0</td>\n",
       "      <td>0</td>\n",
       "      <td>0</td>\n",
       "      <td>1</td>\n",
       "      <td>0</td>\n",
       "      <td>0</td>\n",
       "    </tr>\n",
       "  </tbody>\n",
       "</table>\n",
       "<p>5 rows × 26 columns</p>\n",
       "</div>"
      ],
      "text/plain": [
       "      price  bedrooms  bathrooms  sqft_living  sqft_lot  yr_built  floors_1.5  \\\n",
       "0 -1.098851 -0.388103  -1.477557    -1.018820 -0.227141 -0.543841           0   \n",
       "1  0.119438 -0.388103   0.220763     0.642392 -0.187736 -0.680428           0   \n",
       "2 -1.260339 -1.477989  -1.477557    -1.508818 -0.119471 -1.295072           0   \n",
       "3  0.373811  0.701784   1.239755    -0.086629 -0.243230 -0.202372           0   \n",
       "4  0.011523 -0.388103  -0.118901    -0.421262 -0.166994  0.548859           0   \n",
       "\n",
       "   floors_2.0  floors_2.5  floors_3.0  ...  grade_11  grade_12  grade_3  \\\n",
       "0           0           0           0  ...         0         0        0   \n",
       "1           1           0           0  ...         0         0        0   \n",
       "2           0           0           0  ...         0         0        0   \n",
       "3           0           0           0  ...         0         0        0   \n",
       "4           0           0           0  ...         0         0        0   \n",
       "\n",
       "   grade_4  grade_5  grade_6  grade_7  grade_8  grade_9  renovated_yes  \n",
       "0        0        0        0        1        0        0              0  \n",
       "1        0        0        0        1        0        0              1  \n",
       "2        0        0        1        0        0        0              0  \n",
       "3        0        0        0        1        0        0              0  \n",
       "4        0        0        0        0        1        0              0  \n",
       "\n",
       "[5 rows x 26 columns]"
      ]
     },
     "execution_count": 44,
     "metadata": {},
     "output_type": "execute_result"
    }
   ],
   "source": [
    "# Combine data for new dataset for Model 2\n",
    "data_3_pc = pd.concat([data_norm, data_ohe], axis=1)\n",
    "data_3_pc.head()"
   ]
  },
  {
   "cell_type": "code",
   "execution_count": 45,
   "metadata": {
    "ExecuteTime": {
     "end_time": "2021-03-26T22:02:07.690657Z",
     "start_time": "2021-03-26T22:02:07.676188Z"
    }
   },
   "outputs": [],
   "source": [
    "X = data_3_pc.drop('price', axis=1)\n",
    "y = data_3_pc['price']"
   ]
  },
  {
   "cell_type": "code",
   "execution_count": 46,
   "metadata": {
    "ExecuteTime": {
     "end_time": "2021-03-26T22:02:07.754517Z",
     "start_time": "2021-03-26T22:02:07.691655Z"
    }
   },
   "outputs": [
    {
     "data": {
      "text/html": [
       "<table class=\"simpletable\">\n",
       "<caption>OLS Regression Results</caption>\n",
       "<tr>\n",
       "  <th>Dep. Variable:</th>          <td>price</td>      <th>  R-squared:         </th> <td>   0.624</td> \n",
       "</tr>\n",
       "<tr>\n",
       "  <th>Model:</th>                   <td>OLS</td>       <th>  Adj. R-squared:    </th> <td>   0.623</td> \n",
       "</tr>\n",
       "<tr>\n",
       "  <th>Method:</th>             <td>Least Squares</td>  <th>  F-statistic:       </th> <td>   1403.</td> \n",
       "</tr>\n",
       "<tr>\n",
       "  <th>Date:</th>             <td>Fri, 26 Mar 2021</td> <th>  Prob (F-statistic):</th>  <td>  0.00</td>  \n",
       "</tr>\n",
       "<tr>\n",
       "  <th>Time:</th>                 <td>17:02:07</td>     <th>  Log-Likelihood:    </th> <td> -19714.</td> \n",
       "</tr>\n",
       "<tr>\n",
       "  <th>No. Observations:</th>      <td> 21191</td>      <th>  AIC:               </th> <td>3.948e+04</td>\n",
       "</tr>\n",
       "<tr>\n",
       "  <th>Df Residuals:</th>          <td> 21165</td>      <th>  BIC:               </th> <td>3.969e+04</td>\n",
       "</tr>\n",
       "<tr>\n",
       "  <th>Df Model:</th>              <td>    25</td>      <th>                     </th>     <td> </td>    \n",
       "</tr>\n",
       "<tr>\n",
       "  <th>Covariance Type:</th>      <td>nonrobust</td>    <th>                     </th>     <td> </td>    \n",
       "</tr>\n",
       "</table>\n",
       "<table class=\"simpletable\">\n",
       "<tr>\n",
       "         <td></td>           <th>coef</th>     <th>std err</th>      <th>t</th>      <th>P>|t|</th>  <th>[0.025</th>    <th>0.975]</th>  \n",
       "</tr>\n",
       "<tr>\n",
       "  <th>const</th>          <td>    1.0619</td> <td>    0.117</td> <td>    9.046</td> <td> 0.000</td> <td>    0.832</td> <td>    1.292</td>\n",
       "</tr>\n",
       "<tr>\n",
       "  <th>bedrooms</th>       <td>   -0.0601</td> <td>    0.006</td> <td>  -10.907</td> <td> 0.000</td> <td>   -0.071</td> <td>   -0.049</td>\n",
       "</tr>\n",
       "<tr>\n",
       "  <th>bathrooms</th>      <td>    0.1142</td> <td>    0.007</td> <td>   15.327</td> <td> 0.000</td> <td>    0.100</td> <td>    0.129</td>\n",
       "</tr>\n",
       "<tr>\n",
       "  <th>sqft_living</th>    <td>    0.3401</td> <td>    0.009</td> <td>   39.864</td> <td> 0.000</td> <td>    0.323</td> <td>    0.357</td>\n",
       "</tr>\n",
       "<tr>\n",
       "  <th>sqft_lot</th>       <td>   -0.0132</td> <td>    0.004</td> <td>   -3.042</td> <td> 0.002</td> <td>   -0.022</td> <td>   -0.005</td>\n",
       "</tr>\n",
       "<tr>\n",
       "  <th>yr_built</th>       <td>   -0.3434</td> <td>    0.007</td> <td>  -52.681</td> <td> 0.000</td> <td>   -0.356</td> <td>   -0.331</td>\n",
       "</tr>\n",
       "<tr>\n",
       "  <th>floors_1.5</th>     <td>    0.0498</td> <td>    0.016</td> <td>    3.054</td> <td> 0.002</td> <td>    0.018</td> <td>    0.082</td>\n",
       "</tr>\n",
       "<tr>\n",
       "  <th>floors_2.0</th>     <td>    0.0480</td> <td>    0.012</td> <td>    3.977</td> <td> 0.000</td> <td>    0.024</td> <td>    0.072</td>\n",
       "</tr>\n",
       "<tr>\n",
       "  <th>floors_2.5</th>     <td>    0.2437</td> <td>    0.054</td> <td>    4.546</td> <td> 0.000</td> <td>    0.139</td> <td>    0.349</td>\n",
       "</tr>\n",
       "<tr>\n",
       "  <th>floors_3.0</th>     <td>    0.4606</td> <td>    0.028</td> <td>   16.313</td> <td> 0.000</td> <td>    0.405</td> <td>    0.516</td>\n",
       "</tr>\n",
       "<tr>\n",
       "  <th>floors_3.5</th>     <td>    0.4144</td> <td>    0.251</td> <td>    1.650</td> <td> 0.099</td> <td>   -0.078</td> <td>    0.906</td>\n",
       "</tr>\n",
       "<tr>\n",
       "  <th>waterfront_yes</th> <td>    1.1402</td> <td>    0.069</td> <td>   16.488</td> <td> 0.000</td> <td>    1.005</td> <td>    1.276</td>\n",
       "</tr>\n",
       "<tr>\n",
       "  <th>condition_2</th>    <td>   -0.0843</td> <td>    0.124</td> <td>   -0.681</td> <td> 0.496</td> <td>   -0.327</td> <td>    0.158</td>\n",
       "</tr>\n",
       "<tr>\n",
       "  <th>condition_3</th>    <td>    0.0780</td> <td>    0.115</td> <td>    0.678</td> <td> 0.498</td> <td>   -0.148</td> <td>    0.304</td>\n",
       "</tr>\n",
       "<tr>\n",
       "  <th>condition_4</th>    <td>    0.1281</td> <td>    0.115</td> <td>    1.113</td> <td> 0.266</td> <td>   -0.097</td> <td>    0.354</td>\n",
       "</tr>\n",
       "<tr>\n",
       "  <th>condition_5</th>    <td>    0.2695</td> <td>    0.116</td> <td>    2.328</td> <td> 0.020</td> <td>    0.043</td> <td>    0.496</td>\n",
       "</tr>\n",
       "<tr>\n",
       "  <th>grade_11</th>       <td>    0.4815</td> <td>    0.042</td> <td>   11.501</td> <td> 0.000</td> <td>    0.399</td> <td>    0.564</td>\n",
       "</tr>\n",
       "<tr>\n",
       "  <th>grade_12</th>       <td>    1.1011</td> <td>    0.111</td> <td>    9.934</td> <td> 0.000</td> <td>    0.884</td> <td>    1.318</td>\n",
       "</tr>\n",
       "<tr>\n",
       "  <th>grade_3</th>        <td>   -2.2059</td> <td>    0.615</td> <td>   -3.588</td> <td> 0.000</td> <td>   -3.411</td> <td>   -1.001</td>\n",
       "</tr>\n",
       "<tr>\n",
       "  <th>grade_4</th>        <td>   -2.0649</td> <td>    0.122</td> <td>  -16.900</td> <td> 0.000</td> <td>   -2.304</td> <td>   -1.825</td>\n",
       "</tr>\n",
       "<tr>\n",
       "  <th>grade_5</th>        <td>   -2.0950</td> <td>    0.049</td> <td>  -42.620</td> <td> 0.000</td> <td>   -2.191</td> <td>   -1.999</td>\n",
       "</tr>\n",
       "<tr>\n",
       "  <th>grade_6</th>        <td>   -1.8891</td> <td>    0.031</td> <td>  -61.281</td> <td> 0.000</td> <td>   -1.950</td> <td>   -1.829</td>\n",
       "</tr>\n",
       "<tr>\n",
       "  <th>grade_7</th>        <td>   -1.5159</td> <td>    0.026</td> <td>  -59.286</td> <td> 0.000</td> <td>   -1.566</td> <td>   -1.466</td>\n",
       "</tr>\n",
       "<tr>\n",
       "  <th>grade_8</th>        <td>   -1.0884</td> <td>    0.024</td> <td>  -46.283</td> <td> 0.000</td> <td>   -1.135</td> <td>   -1.042</td>\n",
       "</tr>\n",
       "<tr>\n",
       "  <th>grade_9</th>        <td>   -0.4837</td> <td>    0.023</td> <td>  -20.586</td> <td> 0.000</td> <td>   -0.530</td> <td>   -0.438</td>\n",
       "</tr>\n",
       "<tr>\n",
       "  <th>renovated_yes</th>  <td>    0.0869</td> <td>    0.025</td> <td>    3.462</td> <td> 0.001</td> <td>    0.038</td> <td>    0.136</td>\n",
       "</tr>\n",
       "</table>\n",
       "<table class=\"simpletable\">\n",
       "<tr>\n",
       "  <th>Omnibus:</th>       <td>3197.698</td> <th>  Durbin-Watson:     </th> <td>   1.961</td>\n",
       "</tr>\n",
       "<tr>\n",
       "  <th>Prob(Omnibus):</th>  <td> 0.000</td>  <th>  Jarque-Bera (JB):  </th> <td>9274.025</td>\n",
       "</tr>\n",
       "<tr>\n",
       "  <th>Skew:</th>           <td> 0.806</td>  <th>  Prob(JB):          </th> <td>    0.00</td>\n",
       "</tr>\n",
       "<tr>\n",
       "  <th>Kurtosis:</th>       <td> 5.812</td>  <th>  Cond. No.          </th> <td>    238.</td>\n",
       "</tr>\n",
       "</table><br/><br/>Notes:<br/>[1] Standard Errors assume that the covariance matrix of the errors is correctly specified."
      ],
      "text/plain": [
       "<class 'statsmodels.iolib.summary.Summary'>\n",
       "\"\"\"\n",
       "                            OLS Regression Results                            \n",
       "==============================================================================\n",
       "Dep. Variable:                  price   R-squared:                       0.624\n",
       "Model:                            OLS   Adj. R-squared:                  0.623\n",
       "Method:                 Least Squares   F-statistic:                     1403.\n",
       "Date:                Fri, 26 Mar 2021   Prob (F-statistic):               0.00\n",
       "Time:                        17:02:07   Log-Likelihood:                -19714.\n",
       "No. Observations:               21191   AIC:                         3.948e+04\n",
       "Df Residuals:                   21165   BIC:                         3.969e+04\n",
       "Df Model:                          25                                         \n",
       "Covariance Type:            nonrobust                                         \n",
       "==================================================================================\n",
       "                     coef    std err          t      P>|t|      [0.025      0.975]\n",
       "----------------------------------------------------------------------------------\n",
       "const              1.0619      0.117      9.046      0.000       0.832       1.292\n",
       "bedrooms          -0.0601      0.006    -10.907      0.000      -0.071      -0.049\n",
       "bathrooms          0.1142      0.007     15.327      0.000       0.100       0.129\n",
       "sqft_living        0.3401      0.009     39.864      0.000       0.323       0.357\n",
       "sqft_lot          -0.0132      0.004     -3.042      0.002      -0.022      -0.005\n",
       "yr_built          -0.3434      0.007    -52.681      0.000      -0.356      -0.331\n",
       "floors_1.5         0.0498      0.016      3.054      0.002       0.018       0.082\n",
       "floors_2.0         0.0480      0.012      3.977      0.000       0.024       0.072\n",
       "floors_2.5         0.2437      0.054      4.546      0.000       0.139       0.349\n",
       "floors_3.0         0.4606      0.028     16.313      0.000       0.405       0.516\n",
       "floors_3.5         0.4144      0.251      1.650      0.099      -0.078       0.906\n",
       "waterfront_yes     1.1402      0.069     16.488      0.000       1.005       1.276\n",
       "condition_2       -0.0843      0.124     -0.681      0.496      -0.327       0.158\n",
       "condition_3        0.0780      0.115      0.678      0.498      -0.148       0.304\n",
       "condition_4        0.1281      0.115      1.113      0.266      -0.097       0.354\n",
       "condition_5        0.2695      0.116      2.328      0.020       0.043       0.496\n",
       "grade_11           0.4815      0.042     11.501      0.000       0.399       0.564\n",
       "grade_12           1.1011      0.111      9.934      0.000       0.884       1.318\n",
       "grade_3           -2.2059      0.615     -3.588      0.000      -3.411      -1.001\n",
       "grade_4           -2.0649      0.122    -16.900      0.000      -2.304      -1.825\n",
       "grade_5           -2.0950      0.049    -42.620      0.000      -2.191      -1.999\n",
       "grade_6           -1.8891      0.031    -61.281      0.000      -1.950      -1.829\n",
       "grade_7           -1.5159      0.026    -59.286      0.000      -1.566      -1.466\n",
       "grade_8           -1.0884      0.024    -46.283      0.000      -1.135      -1.042\n",
       "grade_9           -0.4837      0.023    -20.586      0.000      -0.530      -0.438\n",
       "renovated_yes      0.0869      0.025      3.462      0.001       0.038       0.136\n",
       "==============================================================================\n",
       "Omnibus:                     3197.698   Durbin-Watson:                   1.961\n",
       "Prob(Omnibus):                  0.000   Jarque-Bera (JB):             9274.025\n",
       "Skew:                           0.806   Prob(JB):                         0.00\n",
       "Kurtosis:                       5.812   Cond. No.                         238.\n",
       "==============================================================================\n",
       "\n",
       "Notes:\n",
       "[1] Standard Errors assume that the covariance matrix of the errors is correctly specified.\n",
       "\"\"\""
      ]
     },
     "execution_count": 46,
     "metadata": {},
     "output_type": "execute_result"
    }
   ],
   "source": [
    "X_int = sm.add_constant(X)\n",
    "model_3 = sm.OLS(y,X_int).fit()\n",
    "model_3.summary()"
   ]
  },
  {
   "cell_type": "code",
   "execution_count": 47,
   "metadata": {
    "ExecuteTime": {
     "end_time": "2021-03-26T22:02:07.786432Z",
     "start_time": "2021-03-26T22:02:07.755514Z"
    }
   },
   "outputs": [
    {
     "name": "stdout",
     "output_type": "stream",
     "text": [
      "R^2 Score of Train: 0.6253793942236275\n",
      "RMSE of Train: 0.6166762713232646\n",
      "RMSE of Test: 0.6014094935086501\n"
     ]
    }
   ],
   "source": [
    "linear_reg_sum(data_3_pc)"
   ]
  },
  {
   "cell_type": "code",
   "execution_count": 48,
   "metadata": {
    "ExecuteTime": {
     "end_time": "2021-03-26T22:02:08.003834Z",
     "start_time": "2021-03-26T22:02:07.788427Z"
    }
   },
   "outputs": [
    {
     "data": {
      "image/png": "[encoded data removed]",
      "text/plain": [
       "<Figure size 432x288 with 1 Axes>"
      ]
     },
     "metadata": {
      "needs_background": "light"
     },
     "output_type": "display_data"
    }
   ],
   "source": [
    "# Q-Q plot\n",
    "fig = sm.graphics.qqplot(model_3.resid, dist=stats.norm, line='45', fit=True)"
   ]
  },
  {
   "cell_type": "code",
   "execution_count": 49,
   "metadata": {
    "ExecuteTime": {
     "end_time": "2021-03-26T22:02:08.233775Z",
     "start_time": "2021-03-26T22:02:08.010705Z"
    }
   },
   "outputs": [
    {
     "data": {
      "text/plain": [
       "[<matplotlib.lines.Line2D at 0x249a2e9cfd0>]"
      ]
     },
     "execution_count": 49,
     "metadata": {},
     "output_type": "execute_result"
    },
    {
     "data": {
      "image/png": "[encoded data removed]",
      "text/plain": [
       "<Figure size 432x288 with 1 Axes>"
      ]
     },
     "metadata": {
      "needs_background": "light"
     },
     "output_type": "display_data"
    }
   ],
   "source": [
    "plt.scatter(model_3.predict(X_int), model_3.resid)\n",
    "plt.plot(model_3.predict(X_int), [0 for i in range(len(data_3_pc))])"
   ]
  },
  {
   "cell_type": "markdown",
   "metadata": {},
   "source": [
    "* Q-Q plot is similar to Model 2\n",
    "* R-squared value has increased from Model 2\n",
    "* RMSE difference between Train and Test are still fine\n",
    "* Homoscedasticity has slightly improved. There is still a trend, but may be improved on with additional changes"
   ]
  },
  {
   "cell_type": "markdown",
   "metadata": {},
   "source": [
    "### Model 4: Log Transform\n",
    "\n",
    "Let's log transform the model data to transform the skewed data to normal"
   ]
  },
  {
   "cell_type": "code",
   "execution_count": 50,
   "metadata": {
    "ExecuteTime": {
     "end_time": "2021-03-26T22:02:08.248737Z",
     "start_time": "2021-03-26T22:02:08.235770Z"
    }
   },
   "outputs": [],
   "source": [
    "# Iterating on Model 1 data\n",
    "data_4 = data_2_no_norm.copy()"
   ]
  },
  {
   "cell_type": "code",
   "execution_count": 51,
   "metadata": {
    "ExecuteTime": {
     "end_time": "2021-03-26T22:02:08.264771Z",
     "start_time": "2021-03-26T22:02:08.249734Z"
    }
   },
   "outputs": [],
   "source": [
    "# List out the continuous and categorical variables\n",
    "continuous = ['price', 'bedrooms', 'bathrooms', 'sqft_living', 'sqft_lot', 'yr_built']\n",
    "categoricals = ['floors', 'waterfront', 'condition', 'grade','renovated']"
   ]
  },
  {
   "cell_type": "code",
   "execution_count": 52,
   "metadata": {
    "ExecuteTime": {
     "end_time": "2021-03-26T22:02:08.296609Z",
     "start_time": "2021-03-26T22:02:08.265692Z"
    }
   },
   "outputs": [],
   "source": [
    "# Change to str for dummies\n",
    "data_4['floors'] = data_4['floors'].apply(str)\n",
    "data_4['waterfront'] = data_4['waterfront'].apply(lambda x: 'yes' if x>0 else 'no')\n",
    "data_4['condition'] = data_4['condition'].apply(str)\n",
    "data_4['grade'] = data_4['grade'].apply(str)\n",
    "data_4['renovated'] = data_4['renovated'].apply(lambda x: 'yes' if x>0 else 'no')"
   ]
  },
  {
   "cell_type": "code",
   "execution_count": 53,
   "metadata": {
    "ExecuteTime": {
     "end_time": "2021-03-26T22:02:08.328544Z",
     "start_time": "2021-03-26T22:02:08.297627Z"
    }
   },
   "outputs": [
    {
     "data": {
      "text/plain": [
       "Index(['floors_1.5', 'floors_2.0', 'floors_2.5', 'floors_3.0', 'floors_3.5',\n",
       "       'waterfront_yes', 'condition_2', 'condition_3', 'condition_4',\n",
       "       'condition_5', 'grade_11', 'grade_12', 'grade_3', 'grade_4', 'grade_5',\n",
       "       'grade_6', 'grade_7', 'grade_8', 'grade_9', 'renovated_yes'],\n",
       "      dtype='object')"
      ]
     },
     "execution_count": 53,
     "metadata": {},
     "output_type": "execute_result"
    }
   ],
   "source": [
    "# Create Dummies for categorical variables\n",
    "data_ohe = pd.get_dummies(data_4[categoricals], prefix=categoricals, drop_first=True)\n",
    "data_ohe.columns"
   ]
  },
  {
   "cell_type": "code",
   "execution_count": 54,
   "metadata": {
    "ExecuteTime": {
     "end_time": "2021-03-26T22:02:08.343485Z",
     "start_time": "2021-03-26T22:02:08.329520Z"
    }
   },
   "outputs": [],
   "source": [
    "# Log transform and normalize\n",
    "data_cont = data_4[continuous]\n",
    "\n",
    "# log features\n",
    "log_names = [f'{column}_log' for column in data_cont.columns]\n",
    "\n",
    "data_log = np.log(data_cont)\n",
    "data_log.columns = log_names\n",
    "\n",
    "# normalize (subract mean and divide by std)\n",
    "\n",
    "def normalize(feature):\n",
    "    return (feature - feature.mean()) / feature.std()\n",
    "\n",
    "data_log_norm = data_log.apply(normalize)"
   ]
  },
  {
   "cell_type": "code",
   "execution_count": 55,
   "metadata": {
    "ExecuteTime": {
     "end_time": "2021-03-26T22:02:08.374400Z",
     "start_time": "2021-03-26T22:02:08.345480Z"
    }
   },
   "outputs": [
    {
     "data": {
      "text/html": [
       "<div>\n",
       "<style scoped>\n",
       "    .dataframe tbody tr th:only-of-type {\n",
       "        vertical-align: middle;\n",
       "    }\n",
       "\n",
       "    .dataframe tbody tr th {\n",
       "        vertical-align: top;\n",
       "    }\n",
       "\n",
       "    .dataframe thead th {\n",
       "        text-align: right;\n",
       "    }\n",
       "</style>\n",
       "<table border=\"1\" class=\"dataframe\">\n",
       "  <thead>\n",
       "    <tr style=\"text-align: right;\">\n",
       "      <th></th>\n",
       "      <th>price_log</th>\n",
       "      <th>bedrooms_log</th>\n",
       "      <th>bathrooms_log</th>\n",
       "      <th>sqft_living_log</th>\n",
       "      <th>sqft_lot_log</th>\n",
       "      <th>yr_built_log</th>\n",
       "      <th>floors_1.5</th>\n",
       "      <th>floors_2.0</th>\n",
       "      <th>floors_2.5</th>\n",
       "      <th>floors_3.0</th>\n",
       "      <th>...</th>\n",
       "      <th>grade_11</th>\n",
       "      <th>grade_12</th>\n",
       "      <th>grade_3</th>\n",
       "      <th>grade_4</th>\n",
       "      <th>grade_5</th>\n",
       "      <th>grade_6</th>\n",
       "      <th>grade_7</th>\n",
       "      <th>grade_8</th>\n",
       "      <th>grade_9</th>\n",
       "      <th>renovated_yes</th>\n",
       "    </tr>\n",
       "  </thead>\n",
       "  <tbody>\n",
       "    <tr>\n",
       "      <th>0</th>\n",
       "      <td>-1.463747</td>\n",
       "      <td>-0.263828</td>\n",
       "      <td>-1.725013</td>\n",
       "      <td>-1.124885</td>\n",
       "      <td>-0.375587</td>\n",
       "      <td>-0.536613</td>\n",
       "      <td>0</td>\n",
       "      <td>0</td>\n",
       "      <td>0</td>\n",
       "      <td>0</td>\n",
       "      <td>...</td>\n",
       "      <td>0</td>\n",
       "      <td>0</td>\n",
       "      <td>0</td>\n",
       "      <td>0</td>\n",
       "      <td>0</td>\n",
       "      <td>0</td>\n",
       "      <td>1</td>\n",
       "      <td>0</td>\n",
       "      <td>0</td>\n",
       "      <td>0</td>\n",
       "    </tr>\n",
       "    <tr>\n",
       "      <th>1</th>\n",
       "      <td>0.365886</td>\n",
       "      <td>-0.263828</td>\n",
       "      <td>0.372979</td>\n",
       "      <td>0.772925</td>\n",
       "      <td>-0.099188</td>\n",
       "      <td>-0.673950</td>\n",
       "      <td>0</td>\n",
       "      <td>1</td>\n",
       "      <td>0</td>\n",
       "      <td>0</td>\n",
       "      <td>...</td>\n",
       "      <td>0</td>\n",
       "      <td>0</td>\n",
       "      <td>0</td>\n",
       "      <td>0</td>\n",
       "      <td>0</td>\n",
       "      <td>0</td>\n",
       "      <td>1</td>\n",
       "      <td>0</td>\n",
       "      <td>0</td>\n",
       "      <td>1</td>\n",
       "    </tr>\n",
       "    <tr>\n",
       "      <th>2</th>\n",
       "      <td>-1.896080</td>\n",
       "      <td>-1.700993</td>\n",
       "      <td>-1.725013</td>\n",
       "      <td>-2.165666</td>\n",
       "      <td>0.260100</td>\n",
       "      <td>-1.295470</td>\n",
       "      <td>0</td>\n",
       "      <td>0</td>\n",
       "      <td>0</td>\n",
       "      <td>0</td>\n",
       "      <td>...</td>\n",
       "      <td>0</td>\n",
       "      <td>0</td>\n",
       "      <td>0</td>\n",
       "      <td>0</td>\n",
       "      <td>0</td>\n",
       "      <td>1</td>\n",
       "      <td>0</td>\n",
       "      <td>0</td>\n",
       "      <td>0</td>\n",
       "      <td>0</td>\n",
       "    </tr>\n",
       "    <tr>\n",
       "      <th>3</th>\n",
       "      <td>0.604944</td>\n",
       "      <td>0.755857</td>\n",
       "      <td>1.117254</td>\n",
       "      <td>0.112289</td>\n",
       "      <td>-0.511667</td>\n",
       "      <td>-0.194497</td>\n",
       "      <td>0</td>\n",
       "      <td>0</td>\n",
       "      <td>0</td>\n",
       "      <td>0</td>\n",
       "      <td>...</td>\n",
       "      <td>0</td>\n",
       "      <td>0</td>\n",
       "      <td>0</td>\n",
       "      <td>0</td>\n",
       "      <td>0</td>\n",
       "      <td>0</td>\n",
       "      <td>1</td>\n",
       "      <td>0</td>\n",
       "      <td>0</td>\n",
       "      <td>0</td>\n",
       "    </tr>\n",
       "    <tr>\n",
       "      <th>4</th>\n",
       "      <td>0.255468</td>\n",
       "      <td>-0.263828</td>\n",
       "      <td>0.068258</td>\n",
       "      <td>-0.263548</td>\n",
       "      <td>0.022726</td>\n",
       "      <td>0.552070</td>\n",
       "      <td>0</td>\n",
       "      <td>0</td>\n",
       "      <td>0</td>\n",
       "      <td>0</td>\n",
       "      <td>...</td>\n",
       "      <td>0</td>\n",
       "      <td>0</td>\n",
       "      <td>0</td>\n",
       "      <td>0</td>\n",
       "      <td>0</td>\n",
       "      <td>0</td>\n",
       "      <td>0</td>\n",
       "      <td>1</td>\n",
       "      <td>0</td>\n",
       "      <td>0</td>\n",
       "    </tr>\n",
       "  </tbody>\n",
       "</table>\n",
       "<p>5 rows × 26 columns</p>\n",
       "</div>"
      ],
      "text/plain": [
       "   price_log  bedrooms_log  bathrooms_log  sqft_living_log  sqft_lot_log  \\\n",
       "0  -1.463747     -0.263828      -1.725013        -1.124885     -0.375587   \n",
       "1   0.365886     -0.263828       0.372979         0.772925     -0.099188   \n",
       "2  -1.896080     -1.700993      -1.725013        -2.165666      0.260100   \n",
       "3   0.604944      0.755857       1.117254         0.112289     -0.511667   \n",
       "4   0.255468     -0.263828       0.068258        -0.263548      0.022726   \n",
       "\n",
       "   yr_built_log  floors_1.5  floors_2.0  floors_2.5  floors_3.0  ...  \\\n",
       "0     -0.536613           0           0           0           0  ...   \n",
       "1     -0.673950           0           1           0           0  ...   \n",
       "2     -1.295470           0           0           0           0  ...   \n",
       "3     -0.194497           0           0           0           0  ...   \n",
       "4      0.552070           0           0           0           0  ...   \n",
       "\n",
       "   grade_11  grade_12  grade_3  grade_4  grade_5  grade_6  grade_7  grade_8  \\\n",
       "0         0         0        0        0        0        0        1        0   \n",
       "1         0         0        0        0        0        0        1        0   \n",
       "2         0         0        0        0        0        1        0        0   \n",
       "3         0         0        0        0        0        0        1        0   \n",
       "4         0         0        0        0        0        0        0        1   \n",
       "\n",
       "   grade_9  renovated_yes  \n",
       "0        0              0  \n",
       "1        0              1  \n",
       "2        0              0  \n",
       "3        0              0  \n",
       "4        0              0  \n",
       "\n",
       "[5 rows x 26 columns]"
      ]
     },
     "execution_count": 55,
     "metadata": {},
     "output_type": "execute_result"
    }
   ],
   "source": [
    "# Combine data for new dataset for Model 3\n",
    "data_4_pc = pd.concat([data_log_norm, data_ohe], axis=1)\n",
    "data_4_pc.head()"
   ]
  },
  {
   "cell_type": "code",
   "execution_count": 56,
   "metadata": {
    "ExecuteTime": {
     "end_time": "2021-03-26T22:02:08.390376Z",
     "start_time": "2021-03-26T22:02:08.375417Z"
    }
   },
   "outputs": [],
   "source": [
    "X = data_4_pc.drop('price_log', axis=1)\n",
    "y = data_4_pc['price_log']"
   ]
  },
  {
   "cell_type": "code",
   "execution_count": 57,
   "metadata": {
    "ExecuteTime": {
     "end_time": "2021-03-26T22:02:08.421275Z",
     "start_time": "2021-03-26T22:02:08.391374Z"
    }
   },
   "outputs": [
    {
     "data": {
      "text/html": [
       "<div>\n",
       "<style scoped>\n",
       "    .dataframe tbody tr th:only-of-type {\n",
       "        vertical-align: middle;\n",
       "    }\n",
       "\n",
       "    .dataframe tbody tr th {\n",
       "        vertical-align: top;\n",
       "    }\n",
       "\n",
       "    .dataframe thead th {\n",
       "        text-align: right;\n",
       "    }\n",
       "</style>\n",
       "<table border=\"1\" class=\"dataframe\">\n",
       "  <thead>\n",
       "    <tr style=\"text-align: right;\">\n",
       "      <th></th>\n",
       "      <th>bedrooms_log</th>\n",
       "      <th>bathrooms_log</th>\n",
       "      <th>sqft_living_log</th>\n",
       "      <th>sqft_lot_log</th>\n",
       "      <th>yr_built_log</th>\n",
       "      <th>floors_1.5</th>\n",
       "      <th>floors_2.0</th>\n",
       "      <th>floors_2.5</th>\n",
       "      <th>floors_3.0</th>\n",
       "      <th>floors_3.5</th>\n",
       "      <th>...</th>\n",
       "      <th>grade_11</th>\n",
       "      <th>grade_12</th>\n",
       "      <th>grade_3</th>\n",
       "      <th>grade_4</th>\n",
       "      <th>grade_5</th>\n",
       "      <th>grade_6</th>\n",
       "      <th>grade_7</th>\n",
       "      <th>grade_8</th>\n",
       "      <th>grade_9</th>\n",
       "      <th>renovated_yes</th>\n",
       "    </tr>\n",
       "  </thead>\n",
       "  <tbody>\n",
       "    <tr>\n",
       "      <th>0</th>\n",
       "      <td>-0.263828</td>\n",
       "      <td>-1.725013</td>\n",
       "      <td>-1.124885</td>\n",
       "      <td>-0.375587</td>\n",
       "      <td>-0.536613</td>\n",
       "      <td>0</td>\n",
       "      <td>0</td>\n",
       "      <td>0</td>\n",
       "      <td>0</td>\n",
       "      <td>0</td>\n",
       "      <td>...</td>\n",
       "      <td>0</td>\n",
       "      <td>0</td>\n",
       "      <td>0</td>\n",
       "      <td>0</td>\n",
       "      <td>0</td>\n",
       "      <td>0</td>\n",
       "      <td>1</td>\n",
       "      <td>0</td>\n",
       "      <td>0</td>\n",
       "      <td>0</td>\n",
       "    </tr>\n",
       "    <tr>\n",
       "      <th>1</th>\n",
       "      <td>-0.263828</td>\n",
       "      <td>0.372979</td>\n",
       "      <td>0.772925</td>\n",
       "      <td>-0.099188</td>\n",
       "      <td>-0.673950</td>\n",
       "      <td>0</td>\n",
       "      <td>1</td>\n",
       "      <td>0</td>\n",
       "      <td>0</td>\n",
       "      <td>0</td>\n",
       "      <td>...</td>\n",
       "      <td>0</td>\n",
       "      <td>0</td>\n",
       "      <td>0</td>\n",
       "      <td>0</td>\n",
       "      <td>0</td>\n",
       "      <td>0</td>\n",
       "      <td>1</td>\n",
       "      <td>0</td>\n",
       "      <td>0</td>\n",
       "      <td>1</td>\n",
       "    </tr>\n",
       "    <tr>\n",
       "      <th>2</th>\n",
       "      <td>-1.700993</td>\n",
       "      <td>-1.725013</td>\n",
       "      <td>-2.165666</td>\n",
       "      <td>0.260100</td>\n",
       "      <td>-1.295470</td>\n",
       "      <td>0</td>\n",
       "      <td>0</td>\n",
       "      <td>0</td>\n",
       "      <td>0</td>\n",
       "      <td>0</td>\n",
       "      <td>...</td>\n",
       "      <td>0</td>\n",
       "      <td>0</td>\n",
       "      <td>0</td>\n",
       "      <td>0</td>\n",
       "      <td>0</td>\n",
       "      <td>1</td>\n",
       "      <td>0</td>\n",
       "      <td>0</td>\n",
       "      <td>0</td>\n",
       "      <td>0</td>\n",
       "    </tr>\n",
       "    <tr>\n",
       "      <th>3</th>\n",
       "      <td>0.755857</td>\n",
       "      <td>1.117254</td>\n",
       "      <td>0.112289</td>\n",
       "      <td>-0.511667</td>\n",
       "      <td>-0.194497</td>\n",
       "      <td>0</td>\n",
       "      <td>0</td>\n",
       "      <td>0</td>\n",
       "      <td>0</td>\n",
       "      <td>0</td>\n",
       "      <td>...</td>\n",
       "      <td>0</td>\n",
       "      <td>0</td>\n",
       "      <td>0</td>\n",
       "      <td>0</td>\n",
       "      <td>0</td>\n",
       "      <td>0</td>\n",
       "      <td>1</td>\n",
       "      <td>0</td>\n",
       "      <td>0</td>\n",
       "      <td>0</td>\n",
       "    </tr>\n",
       "    <tr>\n",
       "      <th>4</th>\n",
       "      <td>-0.263828</td>\n",
       "      <td>0.068258</td>\n",
       "      <td>-0.263548</td>\n",
       "      <td>0.022726</td>\n",
       "      <td>0.552070</td>\n",
       "      <td>0</td>\n",
       "      <td>0</td>\n",
       "      <td>0</td>\n",
       "      <td>0</td>\n",
       "      <td>0</td>\n",
       "      <td>...</td>\n",
       "      <td>0</td>\n",
       "      <td>0</td>\n",
       "      <td>0</td>\n",
       "      <td>0</td>\n",
       "      <td>0</td>\n",
       "      <td>0</td>\n",
       "      <td>0</td>\n",
       "      <td>1</td>\n",
       "      <td>0</td>\n",
       "      <td>0</td>\n",
       "    </tr>\n",
       "  </tbody>\n",
       "</table>\n",
       "<p>5 rows × 25 columns</p>\n",
       "</div>"
      ],
      "text/plain": [
       "   bedrooms_log  bathrooms_log  sqft_living_log  sqft_lot_log  yr_built_log  \\\n",
       "0     -0.263828      -1.725013        -1.124885     -0.375587     -0.536613   \n",
       "1     -0.263828       0.372979         0.772925     -0.099188     -0.673950   \n",
       "2     -1.700993      -1.725013        -2.165666      0.260100     -1.295470   \n",
       "3      0.755857       1.117254         0.112289     -0.511667     -0.194497   \n",
       "4     -0.263828       0.068258        -0.263548      0.022726      0.552070   \n",
       "\n",
       "   floors_1.5  floors_2.0  floors_2.5  floors_3.0  floors_3.5  ...  grade_11  \\\n",
       "0           0           0           0           0           0  ...         0   \n",
       "1           0           1           0           0           0  ...         0   \n",
       "2           0           0           0           0           0  ...         0   \n",
       "3           0           0           0           0           0  ...         0   \n",
       "4           0           0           0           0           0  ...         0   \n",
       "\n",
       "   grade_12  grade_3  grade_4  grade_5  grade_6  grade_7  grade_8  grade_9  \\\n",
       "0         0        0        0        0        0        1        0        0   \n",
       "1         0        0        0        0        0        1        0        0   \n",
       "2         0        0        0        0        1        0        0        0   \n",
       "3         0        0        0        0        0        1        0        0   \n",
       "4         0        0        0        0        0        0        1        0   \n",
       "\n",
       "   renovated_yes  \n",
       "0              0  \n",
       "1              1  \n",
       "2              0  \n",
       "3              0  \n",
       "4              0  \n",
       "\n",
       "[5 rows x 25 columns]"
      ]
     },
     "metadata": {},
     "output_type": "display_data"
    },
    {
     "data": {
      "text/plain": [
       "0   -1.463747\n",
       "1    0.365886\n",
       "2   -1.896080\n",
       "3    0.604944\n",
       "4    0.255468\n",
       "Name: price_log, dtype: float64"
      ]
     },
     "metadata": {},
     "output_type": "display_data"
    }
   ],
   "source": [
    "display(X.head())\n",
    "display(y.head())"
   ]
  },
  {
   "cell_type": "code",
   "execution_count": 58,
   "metadata": {
    "ExecuteTime": {
     "end_time": "2021-03-26T22:02:08.482112Z",
     "start_time": "2021-03-26T22:02:08.423270Z"
    }
   },
   "outputs": [
    {
     "data": {
      "text/html": [
       "<table class=\"simpletable\">\n",
       "<caption>OLS Regression Results</caption>\n",
       "<tr>\n",
       "  <th>Dep. Variable:</th>        <td>price_log</td>    <th>  R-squared:         </th> <td>   0.602</td> \n",
       "</tr>\n",
       "<tr>\n",
       "  <th>Model:</th>                   <td>OLS</td>       <th>  Adj. R-squared:    </th> <td>   0.601</td> \n",
       "</tr>\n",
       "<tr>\n",
       "  <th>Method:</th>             <td>Least Squares</td>  <th>  F-statistic:       </th> <td>   1280.</td> \n",
       "</tr>\n",
       "<tr>\n",
       "  <th>Date:</th>             <td>Fri, 26 Mar 2021</td> <th>  Prob (F-statistic):</th>  <td>  0.00</td>  \n",
       "</tr>\n",
       "<tr>\n",
       "  <th>Time:</th>                 <td>17:02:08</td>     <th>  Log-Likelihood:    </th> <td> -20310.</td> \n",
       "</tr>\n",
       "<tr>\n",
       "  <th>No. Observations:</th>      <td> 21191</td>      <th>  AIC:               </th> <td>4.067e+04</td>\n",
       "</tr>\n",
       "<tr>\n",
       "  <th>Df Residuals:</th>          <td> 21165</td>      <th>  BIC:               </th> <td>4.088e+04</td>\n",
       "</tr>\n",
       "<tr>\n",
       "  <th>Df Model:</th>              <td>    25</td>      <th>                     </th>     <td> </td>    \n",
       "</tr>\n",
       "<tr>\n",
       "  <th>Covariance Type:</th>      <td>nonrobust</td>    <th>                     </th>     <td> </td>    \n",
       "</tr>\n",
       "</table>\n",
       "<table class=\"simpletable\">\n",
       "<tr>\n",
       "         <td></td>            <th>coef</th>     <th>std err</th>      <th>t</th>      <th>P>|t|</th>  <th>[0.025</th>    <th>0.975]</th>  \n",
       "</tr>\n",
       "<tr>\n",
       "  <th>const</th>           <td>    0.7789</td> <td>    0.121</td> <td>    6.453</td> <td> 0.000</td> <td>    0.542</td> <td>    1.015</td>\n",
       "</tr>\n",
       "<tr>\n",
       "  <th>bedrooms_log</th>    <td>   -0.0889</td> <td>    0.006</td> <td>  -14.977</td> <td> 0.000</td> <td>   -0.101</td> <td>   -0.077</td>\n",
       "</tr>\n",
       "<tr>\n",
       "  <th>bathrooms_log</th>   <td>    0.0924</td> <td>    0.008</td> <td>   11.750</td> <td> 0.000</td> <td>    0.077</td> <td>    0.108</td>\n",
       "</tr>\n",
       "<tr>\n",
       "  <th>sqft_living_log</th> <td>    0.3955</td> <td>    0.009</td> <td>   42.447</td> <td> 0.000</td> <td>    0.377</td> <td>    0.414</td>\n",
       "</tr>\n",
       "<tr>\n",
       "  <th>sqft_lot_log</th>    <td>   -0.0728</td> <td>    0.005</td> <td>  -13.931</td> <td> 0.000</td> <td>   -0.083</td> <td>   -0.063</td>\n",
       "</tr>\n",
       "<tr>\n",
       "  <th>yr_built_log</th>    <td>   -0.3462</td> <td>    0.007</td> <td>  -51.145</td> <td> 0.000</td> <td>   -0.360</td> <td>   -0.333</td>\n",
       "</tr>\n",
       "<tr>\n",
       "  <th>floors_1.5</th>      <td>    0.0571</td> <td>    0.017</td> <td>    3.387</td> <td> 0.001</td> <td>    0.024</td> <td>    0.090</td>\n",
       "</tr>\n",
       "<tr>\n",
       "  <th>floors_2.0</th>      <td>    0.0449</td> <td>    0.013</td> <td>    3.514</td> <td> 0.000</td> <td>    0.020</td> <td>    0.070</td>\n",
       "</tr>\n",
       "<tr>\n",
       "  <th>floors_2.5</th>      <td>    0.1174</td> <td>    0.055</td> <td>    2.121</td> <td> 0.034</td> <td>    0.009</td> <td>    0.226</td>\n",
       "</tr>\n",
       "<tr>\n",
       "  <th>floors_3.0</th>      <td>    0.3893</td> <td>    0.031</td> <td>   12.735</td> <td> 0.000</td> <td>    0.329</td> <td>    0.449</td>\n",
       "</tr>\n",
       "<tr>\n",
       "  <th>floors_3.5</th>      <td>    0.4204</td> <td>    0.258</td> <td>    1.627</td> <td> 0.104</td> <td>   -0.086</td> <td>    0.927</td>\n",
       "</tr>\n",
       "<tr>\n",
       "  <th>waterfront_yes</th>  <td>    0.8908</td> <td>    0.071</td> <td>   12.498</td> <td> 0.000</td> <td>    0.751</td> <td>    1.031</td>\n",
       "</tr>\n",
       "<tr>\n",
       "  <th>condition_2</th>     <td>   -0.0496</td> <td>    0.127</td> <td>   -0.389</td> <td> 0.697</td> <td>   -0.299</td> <td>    0.200</td>\n",
       "</tr>\n",
       "<tr>\n",
       "  <th>condition_3</th>     <td>    0.2595</td> <td>    0.118</td> <td>    2.192</td> <td> 0.028</td> <td>    0.027</td> <td>    0.492</td>\n",
       "</tr>\n",
       "<tr>\n",
       "  <th>condition_4</th>     <td>    0.2983</td> <td>    0.118</td> <td>    2.519</td> <td> 0.012</td> <td>    0.066</td> <td>    0.530</td>\n",
       "</tr>\n",
       "<tr>\n",
       "  <th>condition_5</th>     <td>    0.4206</td> <td>    0.119</td> <td>    3.532</td> <td> 0.000</td> <td>    0.187</td> <td>    0.654</td>\n",
       "</tr>\n",
       "<tr>\n",
       "  <th>grade_11</th>        <td>    0.3050</td> <td>    0.043</td> <td>    7.144</td> <td> 0.000</td> <td>    0.221</td> <td>    0.389</td>\n",
       "</tr>\n",
       "<tr>\n",
       "  <th>grade_12</th>        <td>    0.5673</td> <td>    0.114</td> <td>    4.996</td> <td> 0.000</td> <td>    0.345</td> <td>    0.790</td>\n",
       "</tr>\n",
       "<tr>\n",
       "  <th>grade_3</th>         <td>   -1.7915</td> <td>    0.633</td> <td>   -2.831</td> <td> 0.005</td> <td>   -3.032</td> <td>   -0.551</td>\n",
       "</tr>\n",
       "<tr>\n",
       "  <th>grade_4</th>         <td>   -2.2013</td> <td>    0.126</td> <td>  -17.413</td> <td> 0.000</td> <td>   -2.449</td> <td>   -1.954</td>\n",
       "</tr>\n",
       "<tr>\n",
       "  <th>grade_5</th>         <td>   -2.2102</td> <td>    0.051</td> <td>  -43.478</td> <td> 0.000</td> <td>   -2.310</td> <td>   -2.111</td>\n",
       "</tr>\n",
       "<tr>\n",
       "  <th>grade_6</th>         <td>   -1.8675</td> <td>    0.031</td> <td>  -59.702</td> <td> 0.000</td> <td>   -1.929</td> <td>   -1.806</td>\n",
       "</tr>\n",
       "<tr>\n",
       "  <th>grade_7</th>         <td>   -1.3915</td> <td>    0.025</td> <td>  -55.398</td> <td> 0.000</td> <td>   -1.441</td> <td>   -1.342</td>\n",
       "</tr>\n",
       "<tr>\n",
       "  <th>grade_8</th>         <td>   -0.9111</td> <td>    0.023</td> <td>  -39.196</td> <td> 0.000</td> <td>   -0.957</td> <td>   -0.866</td>\n",
       "</tr>\n",
       "<tr>\n",
       "  <th>grade_9</th>         <td>   -0.3646</td> <td>    0.024</td> <td>  -15.268</td> <td> 0.000</td> <td>   -0.411</td> <td>   -0.318</td>\n",
       "</tr>\n",
       "<tr>\n",
       "  <th>renovated_yes</th>   <td>    0.0137</td> <td>    0.026</td> <td>    0.530</td> <td> 0.596</td> <td>   -0.037</td> <td>    0.064</td>\n",
       "</tr>\n",
       "</table>\n",
       "<table class=\"simpletable\">\n",
       "<tr>\n",
       "  <th>Omnibus:</th>       <td>93.917</td> <th>  Durbin-Watson:     </th> <td>   1.965</td>\n",
       "</tr>\n",
       "<tr>\n",
       "  <th>Prob(Omnibus):</th> <td> 0.000</td> <th>  Jarque-Bera (JB):  </th> <td> 107.397</td>\n",
       "</tr>\n",
       "<tr>\n",
       "  <th>Skew:</th>          <td>-0.112</td> <th>  Prob(JB):          </th> <td>4.77e-24</td>\n",
       "</tr>\n",
       "<tr>\n",
       "  <th>Kurtosis:</th>      <td> 3.267</td> <th>  Cond. No.          </th> <td>    243.</td>\n",
       "</tr>\n",
       "</table><br/><br/>Notes:<br/>[1] Standard Errors assume that the covariance matrix of the errors is correctly specified."
      ],
      "text/plain": [
       "<class 'statsmodels.iolib.summary.Summary'>\n",
       "\"\"\"\n",
       "                            OLS Regression Results                            \n",
       "==============================================================================\n",
       "Dep. Variable:              price_log   R-squared:                       0.602\n",
       "Model:                            OLS   Adj. R-squared:                  0.601\n",
       "Method:                 Least Squares   F-statistic:                     1280.\n",
       "Date:                Fri, 26 Mar 2021   Prob (F-statistic):               0.00\n",
       "Time:                        17:02:08   Log-Likelihood:                -20310.\n",
       "No. Observations:               21191   AIC:                         4.067e+04\n",
       "Df Residuals:                   21165   BIC:                         4.088e+04\n",
       "Df Model:                          25                                         \n",
       "Covariance Type:            nonrobust                                         \n",
       "===================================================================================\n",
       "                      coef    std err          t      P>|t|      [0.025      0.975]\n",
       "-----------------------------------------------------------------------------------\n",
       "const               0.7789      0.121      6.453      0.000       0.542       1.015\n",
       "bedrooms_log       -0.0889      0.006    -14.977      0.000      -0.101      -0.077\n",
       "bathrooms_log       0.0924      0.008     11.750      0.000       0.077       0.108\n",
       "sqft_living_log     0.3955      0.009     42.447      0.000       0.377       0.414\n",
       "sqft_lot_log       -0.0728      0.005    -13.931      0.000      -0.083      -0.063\n",
       "yr_built_log       -0.3462      0.007    -51.145      0.000      -0.360      -0.333\n",
       "floors_1.5          0.0571      0.017      3.387      0.001       0.024       0.090\n",
       "floors_2.0          0.0449      0.013      3.514      0.000       0.020       0.070\n",
       "floors_2.5          0.1174      0.055      2.121      0.034       0.009       0.226\n",
       "floors_3.0          0.3893      0.031     12.735      0.000       0.329       0.449\n",
       "floors_3.5          0.4204      0.258      1.627      0.104      -0.086       0.927\n",
       "waterfront_yes      0.8908      0.071     12.498      0.000       0.751       1.031\n",
       "condition_2        -0.0496      0.127     -0.389      0.697      -0.299       0.200\n",
       "condition_3         0.2595      0.118      2.192      0.028       0.027       0.492\n",
       "condition_4         0.2983      0.118      2.519      0.012       0.066       0.530\n",
       "condition_5         0.4206      0.119      3.532      0.000       0.187       0.654\n",
       "grade_11            0.3050      0.043      7.144      0.000       0.221       0.389\n",
       "grade_12            0.5673      0.114      4.996      0.000       0.345       0.790\n",
       "grade_3            -1.7915      0.633     -2.831      0.005      -3.032      -0.551\n",
       "grade_4            -2.2013      0.126    -17.413      0.000      -2.449      -1.954\n",
       "grade_5            -2.2102      0.051    -43.478      0.000      -2.310      -2.111\n",
       "grade_6            -1.8675      0.031    -59.702      0.000      -1.929      -1.806\n",
       "grade_7            -1.3915      0.025    -55.398      0.000      -1.441      -1.342\n",
       "grade_8            -0.9111      0.023    -39.196      0.000      -0.957      -0.866\n",
       "grade_9            -0.3646      0.024    -15.268      0.000      -0.411      -0.318\n",
       "renovated_yes       0.0137      0.026      0.530      0.596      -0.037       0.064\n",
       "==============================================================================\n",
       "Omnibus:                       93.917   Durbin-Watson:                   1.965\n",
       "Prob(Omnibus):                  0.000   Jarque-Bera (JB):              107.397\n",
       "Skew:                          -0.112   Prob(JB):                     4.77e-24\n",
       "Kurtosis:                       3.267   Cond. No.                         243.\n",
       "==============================================================================\n",
       "\n",
       "Notes:\n",
       "[1] Standard Errors assume that the covariance matrix of the errors is correctly specified.\n",
       "\"\"\""
      ]
     },
     "execution_count": 58,
     "metadata": {},
     "output_type": "execute_result"
    }
   ],
   "source": [
    "X_int = sm.add_constant(X)\n",
    "model_4 = sm.OLS(y,X_int).fit()\n",
    "model_4.summary()"
   ]
  },
  {
   "cell_type": "code",
   "execution_count": 59,
   "metadata": {
    "ExecuteTime": {
     "end_time": "2021-03-26T22:02:08.497072Z",
     "start_time": "2021-03-26T22:02:08.483109Z"
    }
   },
   "outputs": [],
   "source": [
    "# Create a function for getting linear regression information from housing dataset for log\n",
    "def linear_reg_sum_log(data):\n",
    "    df = data.copy()\n",
    "    \n",
    "    y = df['price_log']\n",
    "    X = df.drop(['price_log'], axis=1)\n",
    "    X_train, X_test, y_train, y_test = train_test_split(X, y, test_size=0.2, random_state=10)\n",
    "    \n",
    "    # Training\n",
    "    linreg = LinearRegression()\n",
    "    linreg.fit(X_train, y_train)\n",
    "    y_hat_train = linreg.predict(X_train)\n",
    "    y_hat_test = linreg.predict(X_test)\n",
    "    \n",
    "    # Significant score calculations\n",
    "    print(f'R^2 Score of Train: {metrics.r2_score(y_train, y_hat_train)}')\n",
    "    print(f'RMSE of Train: {np.sqrt(metrics.mean_squared_error(y_train, y_hat_train))}')\n",
    "    print(f'RMSE of Test: {np.sqrt(metrics.mean_squared_error(y_test, y_hat_test))}')"
   ]
  },
  {
   "cell_type": "code",
   "execution_count": 60,
   "metadata": {
    "ExecuteTime": {
     "end_time": "2021-03-26T22:02:08.542949Z",
     "start_time": "2021-03-26T22:02:08.498069Z"
    }
   },
   "outputs": [
    {
     "name": "stdout",
     "output_type": "stream",
     "text": [
      "R^2 Score of Train: 0.6023678834040344\n",
      "RMSE of Train: 0.6325323400670484\n",
      "RMSE of Test: 0.6251384954320163\n"
     ]
    }
   ],
   "source": [
    "linear_reg_sum_log(data_4_pc)"
   ]
  },
  {
   "cell_type": "code",
   "execution_count": 61,
   "metadata": {
    "ExecuteTime": {
     "end_time": "2021-03-26T22:02:08.733203Z",
     "start_time": "2021-03-26T22:02:08.544945Z"
    }
   },
   "outputs": [
    {
     "data": {
      "image/png": "[encoded data removed]",
      "text/plain": [
       "<Figure size 432x288 with 1 Axes>"
      ]
     },
     "metadata": {
      "needs_background": "light"
     },
     "output_type": "display_data"
    }
   ],
   "source": [
    "# Q-Q plot\n",
    "fig = sm.graphics.qqplot(model_4.resid, dist=stats.norm, line='45', fit=True)"
   ]
  },
  {
   "cell_type": "code",
   "execution_count": 62,
   "metadata": {
    "ExecuteTime": {
     "end_time": "2021-03-26T22:02:08.905367Z",
     "start_time": "2021-03-26T22:02:08.735198Z"
    }
   },
   "outputs": [
    {
     "data": {
      "text/plain": [
       "[<matplotlib.lines.Line2D at 0x249a16f08e0>]"
      ]
     },
     "execution_count": 62,
     "metadata": {},
     "output_type": "execute_result"
    },
    {
     "data": {
      "image/png": "[encoded data removed]",
      "text/plain": [
       "<Figure size 432x288 with 1 Axes>"
      ]
     },
     "metadata": {
      "needs_background": "light"
     },
     "output_type": "display_data"
    }
   ],
   "source": [
    "plt.scatter(model_4.predict(X_int), model_4.resid)\n",
    "plt.plot(model_4.predict(X_int), [0 for i in range(len(data_4_pc))])"
   ]
  },
  {
   "cell_type": "markdown",
   "metadata": {},
   "source": [
    "* R-squared value went down from Model 3, but not by a large amount. __60% of the variation in price can be explained by the factors in the model__\n",
    "* Q-Q plot appears to be linear. It is very close to 0 residuals. __Best Q-Q plot thus far!__\n",
    "* Homoscedasticity has improved from Model 3. __Best Homoscedasticity thus far!__\n",
    "* Largest factors for better home prices are __whether the home is along a waterfront__ and having a good __grade__ and __condition__ of the home."
   ]
  },
  {
   "cell_type": "markdown",
   "metadata": {},
   "source": [
    "__Model 4__ with the previous iterations is the best model to observe the effects of the variables on Housing sale prices."
   ]
  },
  {
   "cell_type": "code",
   "execution_count": 63,
   "metadata": {
    "ExecuteTime": {
     "end_time": "2021-03-26T22:02:08.936230Z",
     "start_time": "2021-03-26T22:02:08.910303Z"
    }
   },
   "outputs": [
    {
     "data": {
      "text/plain": [
       "LinearRegression()"
      ]
     },
     "execution_count": 63,
     "metadata": {},
     "output_type": "execute_result"
    }
   ],
   "source": [
    "# Let's get the coefficients\n",
    "from sklearn.linear_model import LinearRegression\n",
    "linreg = LinearRegression()\n",
    "linreg.fit(X, y)"
   ]
  },
  {
   "cell_type": "code",
   "execution_count": 64,
   "metadata": {
    "ExecuteTime": {
     "end_time": "2021-03-26T22:02:08.951190Z",
     "start_time": "2021-03-26T22:02:08.939223Z"
    }
   },
   "outputs": [
    {
     "data": {
      "text/plain": [
       "array([-0.08887593,  0.09242832,  0.39547839, -0.0728257 , -0.3462355 ,\n",
       "        0.05710396,  0.04492364,  0.11741703,  0.38928367,  0.42043744,\n",
       "        0.89081643, -0.04957772,  0.25946036,  0.29825495,  0.42064787,\n",
       "        0.30495806,  0.56732451, -1.79150016, -2.2013249 , -2.21024722,\n",
       "       -1.86750937, -1.39154091, -0.91114017, -0.36455841,  0.01368457])"
      ]
     },
     "execution_count": 64,
     "metadata": {},
     "output_type": "execute_result"
    }
   ],
   "source": [
    "linreg.coef_"
   ]
  },
  {
   "cell_type": "code",
   "execution_count": 65,
   "metadata": {
    "ExecuteTime": {
     "end_time": "2021-03-26T22:02:08.966684Z",
     "start_time": "2021-03-26T22:02:08.954182Z"
    }
   },
   "outputs": [],
   "source": [
    "coeff_df = pd.DataFrame(linreg.coef_, X.columns, columns = ['coefficient'])"
   ]
  },
  {
   "cell_type": "code",
   "execution_count": 66,
   "metadata": {
    "ExecuteTime": {
     "end_time": "2021-03-26T22:02:08.982612Z",
     "start_time": "2021-03-26T22:02:08.968650Z"
    }
   },
   "outputs": [
    {
     "data": {
      "text/plain": [
       "coefficient\n",
       " 0.890816      1\n",
       " 0.013685      1\n",
       "-2.201325      1\n",
       "-1.867509      1\n",
       "-1.791500      1\n",
       "-1.391541      1\n",
       "-0.911140      1\n",
       "-0.364558      1\n",
       "-0.346235      1\n",
       "-0.088876      1\n",
       "-0.072826      1\n",
       "-0.049578      1\n",
       " 0.044924      1\n",
       " 0.567325      1\n",
       " 0.057104      1\n",
       " 0.092428      1\n",
       " 0.117417      1\n",
       " 0.259460      1\n",
       " 0.298255      1\n",
       " 0.304958      1\n",
       " 0.389284      1\n",
       " 0.395478      1\n",
       " 0.420437      1\n",
       " 0.420648      1\n",
       "-2.210247      1\n",
       "dtype: int64"
      ]
     },
     "execution_count": 66,
     "metadata": {},
     "output_type": "execute_result"
    }
   ],
   "source": [
    "coeff_df.value_counts()"
   ]
  },
  {
   "cell_type": "code",
   "execution_count": 67,
   "metadata": {
    "ExecuteTime": {
     "end_time": "2021-03-26T22:02:09.267694Z",
     "start_time": "2021-03-26T22:02:08.984609Z"
    }
   },
   "outputs": [
    {
     "data": {
      "image/png": "[encoded data removed]",
      "text/plain": [
       "<Figure size 1080x720 with 1 Axes>"
      ]
     },
     "metadata": {
      "needs_background": "light"
     },
     "output_type": "display_data"
    }
   ],
   "source": [
    "# Create a barplot of positive impacting factors\n",
    "ax = coeff_df[coeff_df['coefficient'] > 0].sort_values(by=['coefficient'], ascending=False).plot(kind='bar', width=0.8, color = 'green', figsize=(15,10))\n",
    "ax.set_title(\"Positive Impact of Variables on House Prices\")\n",
    "ax.set_xlabel(\"Variables\")\n",
    "ax.set_ylabel(\"Coefficient - Impact of Variables\");"
   ]
  },
  {
   "cell_type": "code",
   "execution_count": 68,
   "metadata": {
    "ExecuteTime": {
     "end_time": "2021-03-26T22:02:09.518072Z",
     "start_time": "2021-03-26T22:02:09.291604Z"
    }
   },
   "outputs": [
    {
     "data": {
      "text/plain": [
       "<matplotlib.legend.Legend at 0x249a31be550>"
      ]
     },
     "execution_count": 68,
     "metadata": {},
     "output_type": "execute_result"
    },
    {
     "data": {
      "image/png": "[encoded data removed]",
      "text/plain": [
       "<Figure size 1080x720 with 1 Axes>"
      ]
     },
     "metadata": {
      "needs_background": "light"
     },
     "output_type": "display_data"
    }
   ],
   "source": [
    "# Create a barplot of positive impacting factors\n",
    "ax = coeff_df[coeff_df['coefficient'] < 0].sort_values(by=['coefficient']).plot(kind='bar', width=0.8, color='red', figsize=(15,10))\n",
    "ax.set_title(\"Negative Impact of Variables on House Prices\")\n",
    "ax.set_xlabel(\"Variables\")\n",
    "ax.set_ylabel(\"Coefficient - Impact of Variables\");\n",
    "ax.legend(loc='lower right')"
   ]
  },
  {
   "cell_type": "markdown",
   "metadata": {},
   "source": [
    "## Conclusions"
   ]
  },
  {
   "cell_type": "markdown",
   "metadata": {},
   "source": [
    "The analysis of the housing sale price datasets resulted in the following conclusions:\n",
    "\n",
    "* Having a __Waterfront__ has the largest impact on house sale prices. It may be good to increase prices on these homes as customers are more willing to pay the premium.\n",
    "\n",
    "* A great __Condition__ and __Grade__ of a home are the second most important to a higher price payed for the home. Thus, __Renovations__ increases the prices if it provides an improvement to the overall condition and grade. Random renovations may not have a great impact on the price of a home.\n",
    "\n",
    "* Having a larger living space as seen with increase __Sq.ft.of Living Space__ and more __Floors__ can increase the price of the home. It makes sense as people will pay for more space."
   ]
  },
  {
   "cell_type": "markdown",
   "metadata": {},
   "source": [
    "## Next Steps"
   ]
  },
  {
   "cell_type": "markdown",
   "metadata": {},
   "source": [
    "Further analyses of the housing price dataset could yield additional insights to other recommendations:\n",
    "* __Finding the best locations in King County that yield higher house sale prices__\n",
    "* __Creating an estimation tool for a home based on inputting the correlated factors__\n",
    "* __Analyzing factors further to estimate homes for a lower budget customer__"
   ]
  }
 ],
 "metadata": {
  "kernelspec": {
   "display_name": "Python 3",
   "language": "python",
   "name": "python3"
  },
  "language_info": {
   "codemirror_mode": {
    "name": "ipython",
    "version": 3
   },
   "file_extension": ".py",
   "mimetype": "text/x-python",
   "name": "python",
   "nbconvert_exporter": "python",
   "pygments_lexer": "ipython3",
   "version": "3.8.5"
  },
  "toc": {
   "base_numbering": 1,
   "nav_menu": {},
   "number_sections": true,
   "sideBar": true,
   "skip_h1_title": false,
   "title_cell": "Table of Contents",
   "title_sidebar": "Contents",
   "toc_cell": false,
   "toc_position": {
    "height": "calc(100% - 180px)",
    "left": "10px",
    "top": "150px",
    "width": "409.6px"
   },
   "toc_section_display": true,
   "toc_window_display": false
  }
 },
 "nbformat": 4,
 "nbformat_minor": 2
}
